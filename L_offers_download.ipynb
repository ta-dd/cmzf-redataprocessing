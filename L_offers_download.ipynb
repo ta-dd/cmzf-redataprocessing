{
 "cells": [
  {
   "cell_type": "code",
   "execution_count": 1,
   "metadata": {},
   "outputs": [],
   "source": [
    "import pandas as pd\n",
    "import numpy as np\n",
    "import os\n",
    "import requests\n",
    "import sqlite3\n",
    "\n",
    "from datetime import date\n",
    "\n",
    "from time import sleep \n",
    "from random import randint\n",
    "\n",
    "from typing import Dict, List \n",
    "import re \n"
   ]
  },
  {
   "cell_type": "markdown",
   "metadata": {},
   "source": [
    "# Add parameters"
   ]
  },
  {
   "cell_type": "code",
   "execution_count": 2,
   "metadata": {},
   "outputs": [
    {
     "name": "stdout",
     "output_type": "stream",
     "text": [
      "C:\\Users\\novot\\OneDrive\\Plocha\\Project\\Vojta/CB_landplots_sale_2023-01-23.gzip\n"
     ]
    }
   ],
   "source": [
    "today=str(date.today())\n",
    "exp_file_name=(\"CB_landplots_sale_\"+today+\".gzip\")\n",
    "exp_file_path=str(os.path.dirname(os.path.realpath(\"__file__\")))\n",
    "print(exp_file_path+\"/\"+exp_file_name)"
   ]
  },
  {
   "cell_type": "code",
   "execution_count": 3,
   "metadata": {},
   "outputs": [],
   "source": [
    "category_main_cb = 3 # 1=byty, 2=domy, 3=pozemky, 4=komerční, 5=ostatní\n",
    "category_type_cb = 1 # 1=prodej, 2=nájem, 3=dražba\n",
    "category_sub_cb = [] # 34=garáže, 52=garážové stání\n",
    "locality_region_id = [10] #10=Praha, 11=Středočeský kraj, 5: Liberecký kraj, 1: Českobudějovický kraj"
   ]
  },
  {
   "cell_type": "markdown",
   "metadata": {},
   "source": [
    "# Code "
   ]
  },
  {
   "cell_type": "markdown",
   "metadata": {},
   "source": [
    "### Číselníky:"
   ]
  },
  {
   "cell_type": "code",
   "execution_count": 4,
   "metadata": {},
   "outputs": [
    {
     "name": "stdout",
     "output_type": "stream",
     "text": [
      "  category_main_cb\n",
      "1             byty\n",
      "2             domy\n",
      "3          pozemky\n",
      "4         komerční\n",
      "5          ostatní\n",
      "   category_sub_cb\n",
      "2             1+kk\n",
      "3              1+1\n",
      "4             2+kk\n",
      "5              2+2\n",
      "6             2+kk\n",
      "34           garáž\n",
      "52  garážové stání\n",
      "  category_type_cb\n",
      "1           prodej\n",
      "2            nájem\n",
      "3           dražba\n",
      "   locality_region_id\n",
      "10              Praha\n",
      "11   Středočeský kraj\n",
      "5      Liberecký kraj\n"
     ]
    }
   ],
   "source": [
    "#https://1.im.cz/seznam/blog/articles/import.pdf\n",
    "category_main_cb_dict={1:\"byty\", 2:\"domy\", 3:\"pozemky\", 4:\"komerční\", 5:\"ostatní\"}\n",
    "category_main_cb_dict=pd.DataFrame.from_dict(category_main_cb_dict, orient=\"index\", columns=[\"category_main_cb\"])\n",
    "print(category_main_cb_dict)\n",
    "\n",
    "category_sub_cb_dict={\n",
    "    2:\"1+kk\", \n",
    "    3:\"1+1\", \n",
    "    4:\"2+kk\", \n",
    "    5:\"2+2\", \n",
    "    6:\"2+kk\",\n",
    "    34:\"garáž\",\n",
    "    52:\"garážové stání\"}\n",
    "category_sub_cb_dict=pd.DataFrame.from_dict(category_sub_cb_dict, orient=\"index\", columns=[\"category_sub_cb\"])\n",
    "print(category_sub_cb_dict)\n",
    "\n",
    "category_type_cb_dict={1:\"prodej\", 2:\"nájem\", 3:\"dražba\"}\n",
    "category_type_cb_dict=pd.DataFrame.from_dict(category_type_cb_dict, orient=\"index\", columns=[\"category_type_cb\"])\n",
    "print(category_type_cb_dict)\n",
    "\n",
    "locality_region_id_dict={10:\"Praha\", 11:\"Středočeský kraj\", 5:\"Liberecký kraj\"}\n",
    "locality_region_id_dict=pd.DataFrame.from_dict(locality_region_id_dict, orient=\"index\", columns=[\"locality_region_id\"])\n",
    "print(locality_region_id_dict)"
   ]
  },
  {
   "cell_type": "code",
   "execution_count": 5,
   "metadata": {},
   "outputs": [
    {
     "name": "stdout",
     "output_type": "stream",
     "text": [
      "starting sleep\n",
      "Page 1 was scraped.\n",
      "starting sleep\n",
      "Page 2 was scraped.\n",
      "starting sleep\n",
      "Page 3 was scraped.\n",
      "starting sleep\n",
      "Page 4 was scraped.\n",
      "starting sleep\n",
      "Page 5 was scraped.\n",
      "starting sleep\n",
      "Page 6 was scraped.\n",
      "starting sleep\n",
      "Page 7 was scraped.\n",
      "starting sleep\n",
      "Page 8 was scraped.\n",
      "starting sleep\n",
      "Page 9 was scraped.\n",
      "starting sleep\n",
      "Page 10 was scraped.\n",
      "starting sleep\n",
      "Page 11 was scraped.\n",
      "starting sleep\n",
      "Page 12 was scraped.\n",
      "starting sleep\n",
      "Page 13 was scraped.\n",
      "starting sleep\n",
      "Page 14 was scraped.\n",
      "starting sleep\n",
      "Page 15 was scraped.\n",
      "starting sleep\n",
      "Page 16 was scraped.\n",
      "starting sleep\n",
      "Page 17 was scraped.\n",
      "starting sleep\n",
      "Page 18 was scraped.\n",
      "starting sleep\n",
      "Page 19 was scraped.\n",
      "starting sleep\n",
      "Page 20 was scraped.\n",
      "starting sleep\n",
      "Page 21 was scraped.\n",
      "starting sleep\n",
      "Page 22 was scraped.\n",
      "starting sleep\n",
      "Page 23 is blank.\n"
     ]
    }
   ],
   "source": [
    "def download_lists(category_main_cb, category_type_cb, category_sub_cb, locality_region_id):\n",
    "\n",
    "    category_sub_cb_string = '%7C'.join(str(v) for v in category_sub_cb)\n",
    "    locality_region_id_string = '%7C'.join(str(v) for v in locality_region_id)\n",
    "\n",
    "    collector={}\n",
    "    i=0\n",
    "    run=True\n",
    "\n",
    "    while run==True:\n",
    "        \n",
    "        if len(category_sub_cb)>0:\n",
    "            base_url = 'https://www.sreality.cz/api/cs/v2/estates?category_main_cb={}&category_sub_cb={}category_type_cb={}&locality_region_id={}&per_page60&page={}'.format(category_main_cb, category_sub_cb_string, category_type_cb, locality_region_id_string, i)\n",
    "        else:\n",
    "            base_url = 'https://www.sreality.cz/api/cs/v2/estates?category_main_cb={}&category_type_cb={}&locality_region_id={}&per_page60&page={}'.format(category_main_cb, category_type_cb, locality_region_id_string, i)\n",
    "        \n",
    "        r = requests.get(base_url)\n",
    "        print(\"starting sleep\")\n",
    "        sleep(randint(1,3))\n",
    "\n",
    "        if r.status_code==404:\n",
    "            break\n",
    "        elif r.status_code==200:\n",
    "            r_dict=r.json()\n",
    "\n",
    "            if len(r_dict[\"_embedded\"][\"estates\"]) == 0:\n",
    "                print(f\"Page {i+1} is blank.\")\n",
    "                break\n",
    "\n",
    "            collector[i]=r_dict\n",
    "            \n",
    "            print(f\"Page {i+1} was scraped.\")\n",
    "\n",
    "            i=i+1\n",
    "            j=0\n",
    "\n",
    "        else:\n",
    "            if  j==3:\n",
    "                print(f\"Code {r.status_code} was returned.\")\n",
    "                break\n",
    "            else:\n",
    "                j=j+1\n",
    "    return collector\n",
    "\n",
    "collector=download_lists(category_main_cb=category_main_cb, \n",
    "category_type_cb=category_type_cb, \n",
    "category_sub_cb=category_sub_cb, \n",
    "locality_region_id=locality_region_id)"
   ]
  },
  {
   "cell_type": "code",
   "execution_count": 6,
   "metadata": {},
   "outputs": [],
   "source": [
    "def get_gps_lat_lon(estate_raw: Dict):\n",
    "    gps_ = estate_raw['gps']\n",
    "    return gps_['lat'], gps_['lon']\n",
    "\n",
    "# more robust implementation using regex - https://docs.python.org/3/library/re.html\n",
    "def get_area_from_name(name: str):\n",
    "    \"\"\"(\\d*) matches any decimal digits repeated after each other\"\"\"\n",
    "    name_ = name.split()\n",
    "    return int(''.join(re.findall('(\\d*)', ''.join(name_))))"
   ]
  },
  {
   "cell_type": "code",
   "execution_count": 7,
   "metadata": {},
   "outputs": [],
   "source": [
    "collector[0];"
   ]
  },
  {
   "cell_type": "code",
   "execution_count": 8,
   "metadata": {},
   "outputs": [],
   "source": [
    "# slow helper functions (use itertools.chains for speedup)\n",
    "def flatten_list(l:List):\n",
    "    return [item for sublist in l for item in sublist]\n",
    "\n",
    "def get_distinct_nearby_objects(estates_individual_raw: Dict):\n",
    "    lists_of_nearby_objects = [e['labelsAll'][1] for e in estates_individual_raw.values()]\n",
    "    return list(set(flatten_list(lists_of_nearby_objects)))\n",
    "\n",
    "def get_distinct_estate_attributes(estates_individual_raw: Dict):\n",
    "    lists_of_estates_attributes = [e['labelsAll'][0] for e in estates_individual_raw.values()]\n",
    "    return list(set(flatten_list(lists_of_estates_attributes)))"
   ]
  },
  {
   "cell_type": "code",
   "execution_count": 9,
   "metadata": {},
   "outputs": [],
   "source": [
    "def get_company_details(estate_raw: Dict):\n",
    "    try:\n",
    "            company_id = estate_raw[\"_embedded\"][\"company\"][\"id\"]\n",
    "            company_name = estate_raw[\"_embedded\"][\"company\"][\"name\"]\n",
    "    except (KeyError):\n",
    "            company_id = np.nan\n",
    "            company_name = np.nan\n",
    "\n",
    "    return company_id, company_name"
   ]
  },
  {
   "cell_type": "code",
   "execution_count": 10,
   "metadata": {},
   "outputs": [],
   "source": [
    "def decode_collector(collector):\n",
    "    estates_individual = {}\n",
    "\n",
    "    for page, r in collector.items():\n",
    "        for estate in r['_embedded']['estates']: \n",
    "\n",
    "\n",
    "            estate_relevant = pd.Series(dtype=\"object\")\n",
    "\n",
    "            estate_relevant['price'] = int(estate['price'])\n",
    "            estate_relevant['price_czk'] = int(estate['price_czk'][\"value_raw\"])\n",
    "            estate_relevant['price_czk_unit'] = estate['price_czk'][\"unit\"]\n",
    "            estate_relevant['price_czk_name'] = estate['price_czk'][\"name\"]\n",
    "            estate_relevant['area'] = get_area_from_name(estate['name'])\n",
    "\n",
    "            lat, lon = get_gps_lat_lon(estate)\n",
    "            estate_relevant.loc['lat'] = lat\n",
    "            estate_relevant.loc['lon'] = lon\n",
    "            estate_relevant['locality'] = estate['locality']\n",
    "            estate_relevant['type'] = estate['type']\n",
    "            estate_relevant['category'] = estate['category']\n",
    "            estate_relevant['is_auction'] = estate['is_auction']\n",
    "            estate_relevant['exclusively_at_rk'] = estate['exclusively_at_rk']\n",
    "\n",
    "            estate_relevant['category_main_cb'] = estate[\"seo\"][\"category_main_cb\"]\n",
    "            estate_relevant['category_sub_cb'] = estate[\"seo\"][\"category_sub_cb\"]\n",
    "            estate_relevant['category_type_cb'] = estate[\"seo\"][\"category_type_cb\"]\n",
    "\n",
    "            company_id, company_name = get_company_details(estate)\n",
    "            estate_relevant['company_id'] = company_id\n",
    "            estate_relevant['company_name'] = company_name\n",
    "            \n",
    "            estates_individual[estate['hash_id']] = estate_relevant\n",
    "    \n",
    "    # transforming into pandas df\n",
    "    df = pd.concat(estates_individual).unstack()\n",
    "    df.reset_index(inplace=True)\n",
    "    df = df.rename(columns = {'index':'hash_id'})\n",
    "    \n",
    "    return df\n",
    "\n",
    "df=decode_collector(collector)"
   ]
  },
  {
   "cell_type": "code",
   "execution_count": 11,
   "metadata": {},
   "outputs": [
    {
     "data": {
      "text/html": [
       "<div>\n",
       "<style scoped>\n",
       "    .dataframe tbody tr th:only-of-type {\n",
       "        vertical-align: middle;\n",
       "    }\n",
       "\n",
       "    .dataframe tbody tr th {\n",
       "        vertical-align: top;\n",
       "    }\n",
       "\n",
       "    .dataframe thead th {\n",
       "        text-align: right;\n",
       "    }\n",
       "</style>\n",
       "<table border=\"1\" class=\"dataframe\">\n",
       "  <thead>\n",
       "    <tr style=\"text-align: right;\">\n",
       "      <th></th>\n",
       "      <th>hash_id</th>\n",
       "      <th>price</th>\n",
       "      <th>price_czk</th>\n",
       "      <th>price_czk_unit</th>\n",
       "      <th>price_czk_name</th>\n",
       "      <th>area</th>\n",
       "      <th>lat</th>\n",
       "      <th>lon</th>\n",
       "      <th>locality</th>\n",
       "      <th>type</th>\n",
       "      <th>category</th>\n",
       "      <th>is_auction</th>\n",
       "      <th>exclusively_at_rk</th>\n",
       "      <th>category_main_cb</th>\n",
       "      <th>category_sub_cb</th>\n",
       "      <th>category_type_cb</th>\n",
       "      <th>company_id</th>\n",
       "      <th>company_name</th>\n",
       "    </tr>\n",
       "  </thead>\n",
       "  <tbody>\n",
       "    <tr>\n",
       "      <th>0</th>\n",
       "      <td>3130370908</td>\n",
       "      <td>29789000</td>\n",
       "      <td>29789000</td>\n",
       "      <td></td>\n",
       "      <td>Celková cena</td>\n",
       "      <td>1509</td>\n",
       "      <td>50.097913</td>\n",
       "      <td>14.363281</td>\n",
       "      <td>Praha 6 - Dejvice</td>\n",
       "      <td>1</td>\n",
       "      <td>3</td>\n",
       "      <td>False</td>\n",
       "      <td>0</td>\n",
       "      <td>3</td>\n",
       "      <td>19</td>\n",
       "      <td>1</td>\n",
       "      <td>3628</td>\n",
       "      <td>LUXENT - Exclusive Properties</td>\n",
       "    </tr>\n",
       "    <tr>\n",
       "      <th>1</th>\n",
       "      <td>2704906060</td>\n",
       "      <td>17888000</td>\n",
       "      <td>17888000</td>\n",
       "      <td></td>\n",
       "      <td>Celková cena</td>\n",
       "      <td>1022</td>\n",
       "      <td>50.042608</td>\n",
       "      <td>14.54078</td>\n",
       "      <td>Praha 10 - Hostivař</td>\n",
       "      <td>1</td>\n",
       "      <td>3</td>\n",
       "      <td>False</td>\n",
       "      <td>1</td>\n",
       "      <td>3</td>\n",
       "      <td>19</td>\n",
       "      <td>1</td>\n",
       "      <td>NaN</td>\n",
       "      <td>NaN</td>\n",
       "    </tr>\n",
       "    <tr>\n",
       "      <th>2</th>\n",
       "      <td>280736844</td>\n",
       "      <td>22084000</td>\n",
       "      <td>22084000</td>\n",
       "      <td></td>\n",
       "      <td>Celková cena</td>\n",
       "      <td>1027</td>\n",
       "      <td>50.051946</td>\n",
       "      <td>14.280384</td>\n",
       "      <td>Praha 5 - Sobín</td>\n",
       "      <td>1</td>\n",
       "      <td>3</td>\n",
       "      <td>False</td>\n",
       "      <td>0</td>\n",
       "      <td>3</td>\n",
       "      <td>19</td>\n",
       "      <td>1</td>\n",
       "      <td>17673</td>\n",
       "      <td>ARCHER reality Praha</td>\n",
       "    </tr>\n",
       "    <tr>\n",
       "      <th>3</th>\n",
       "      <td>1233892428</td>\n",
       "      <td>17784000</td>\n",
       "      <td>17784000</td>\n",
       "      <td></td>\n",
       "      <td>Celková cena</td>\n",
       "      <td>827</td>\n",
       "      <td>50.051946</td>\n",
       "      <td>14.280384</td>\n",
       "      <td>Praha 5 - Sobín</td>\n",
       "      <td>1</td>\n",
       "      <td>3</td>\n",
       "      <td>False</td>\n",
       "      <td>0</td>\n",
       "      <td>3</td>\n",
       "      <td>19</td>\n",
       "      <td>1</td>\n",
       "      <td>17673</td>\n",
       "      <td>ARCHER reality Praha</td>\n",
       "    </tr>\n",
       "    <tr>\n",
       "      <th>4</th>\n",
       "      <td>767100492</td>\n",
       "      <td>34117000</td>\n",
       "      <td>34117000</td>\n",
       "      <td></td>\n",
       "      <td>Celková cena</td>\n",
       "      <td>793</td>\n",
       "      <td>50.072035</td>\n",
       "      <td>14.58917</td>\n",
       "      <td>Praha 9 - Dolní Počernice</td>\n",
       "      <td>1</td>\n",
       "      <td>3</td>\n",
       "      <td>False</td>\n",
       "      <td>0</td>\n",
       "      <td>3</td>\n",
       "      <td>19</td>\n",
       "      <td>1</td>\n",
       "      <td>17673</td>\n",
       "      <td>ARCHER reality Praha</td>\n",
       "    </tr>\n",
       "  </tbody>\n",
       "</table>\n",
       "</div>"
      ],
      "text/plain": [
       "      hash_id     price price_czk price_czk_unit price_czk_name  area  \\\n",
       "0  3130370908  29789000  29789000                  Celková cena  1509   \n",
       "1  2704906060  17888000  17888000                  Celková cena  1022   \n",
       "2   280736844  22084000  22084000                  Celková cena  1027   \n",
       "3  1233892428  17784000  17784000                  Celková cena   827   \n",
       "4   767100492  34117000  34117000                  Celková cena   793   \n",
       "\n",
       "         lat        lon                   locality type category is_auction  \\\n",
       "0  50.097913  14.363281          Praha 6 - Dejvice    1        3      False   \n",
       "1  50.042608   14.54078        Praha 10 - Hostivař    1        3      False   \n",
       "2  50.051946  14.280384            Praha 5 - Sobín    1        3      False   \n",
       "3  50.051946  14.280384            Praha 5 - Sobín    1        3      False   \n",
       "4  50.072035   14.58917  Praha 9 - Dolní Počernice    1        3      False   \n",
       "\n",
       "  exclusively_at_rk category_main_cb category_sub_cb category_type_cb  \\\n",
       "0                 0                3              19                1   \n",
       "1                 1                3              19                1   \n",
       "2                 0                3              19                1   \n",
       "3                 0                3              19                1   \n",
       "4                 0                3              19                1   \n",
       "\n",
       "  company_id                   company_name  \n",
       "0       3628  LUXENT - Exclusive Properties  \n",
       "1        NaN                            NaN  \n",
       "2      17673           ARCHER reality Praha  \n",
       "3      17673           ARCHER reality Praha  \n",
       "4      17673           ARCHER reality Praha  "
      ]
     },
     "execution_count": 11,
     "metadata": {},
     "output_type": "execute_result"
    }
   ],
   "source": [
    "df.head()"
   ]
  },
  {
   "cell_type": "code",
   "execution_count": 12,
   "metadata": {},
   "outputs": [
    {
     "data": {
      "text/plain": [
       "(401, 18)"
      ]
     },
     "execution_count": 12,
     "metadata": {},
     "output_type": "execute_result"
    }
   ],
   "source": [
    "df.shape"
   ]
  },
  {
   "cell_type": "markdown",
   "metadata": {},
   "source": [
    "### Saving data"
   ]
  },
  {
   "cell_type": "code",
   "execution_count": 13,
   "metadata": {},
   "outputs": [],
   "source": [
    "#df.to_parquet(exp_file_path+\"/\"+exp_file_name) "
   ]
  },
  {
   "attachments": {},
   "cell_type": "markdown",
   "metadata": {},
   "source": [
    "SQLite:"
   ]
  },
  {
   "cell_type": "code",
   "execution_count": 14,
   "metadata": {},
   "outputs": [],
   "source": [
    "con = sqlite3.connect('Estate_data.sqlite') # We must choose the name for our DB !"
   ]
  },
  {
   "cell_type": "code",
   "execution_count": 15,
   "metadata": {},
   "outputs": [
    {
     "data": {
      "text/plain": [
       "401"
      ]
     },
     "execution_count": 15,
     "metadata": {},
     "output_type": "execute_result"
    }
   ],
   "source": [
    "# Creates a table or appends if exists\n",
    "df.to_sql(name = 'OFFERS_TABLE', con= con, index = False, if_exists = 'append')"
   ]
  },
  {
   "cell_type": "code",
   "execution_count": 16,
   "metadata": {},
   "outputs": [],
   "source": [
    "# Closing the connection\n",
    "con.close()\n",
    "\n",
    "# Loading again: df = pd.read_sql('SELECT * FROM OFFERS_TABLE', con = con)"
   ]
  }
 ],
 "metadata": {
  "kernelspec": {
   "display_name": "base",
   "language": "python",
   "name": "python3"
  },
  "language_info": {
   "codemirror_mode": {
    "name": "ipython",
    "version": 3
   },
   "file_extension": ".py",
   "mimetype": "text/x-python",
   "name": "python",
   "nbconvert_exporter": "python",
   "pygments_lexer": "ipython3",
   "version": "3.9.7"
  },
  "orig_nbformat": 4,
  "vscode": {
   "interpreter": {
    "hash": "4630defebcb174adb9835822cfb543c569d391e08482392016d7a581c1c6df1a"
   }
  }
 },
 "nbformat": 4,
 "nbformat_minor": 2
}
