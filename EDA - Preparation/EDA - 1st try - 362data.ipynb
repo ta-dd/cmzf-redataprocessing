{
 "cells": [
  {
   "cell_type": "code",
   "execution_count": 1,
   "metadata": {},
   "outputs": [],
   "source": [
    "import pandas as pd\n",
    "import numpy as np\n",
    "import matplotlib.pyplot as plt\n",
    "#import random\n",
    "#import time\n",
    "import sqlite3"
   ]
  },
  {
   "attachments": {},
   "cell_type": "markdown",
   "metadata": {},
   "source": [
    "### Loading data:"
   ]
  },
  {
   "cell_type": "code",
   "execution_count": 2,
   "metadata": {},
   "outputs": [],
   "source": [
    "con = sqlite3.connect('Estate_data.sqlite') # We must choose the name for our DB !"
   ]
  },
  {
   "cell_type": "code",
   "execution_count": 3,
   "metadata": {},
   "outputs": [
    {
     "data": {
      "text/plain": [
       "['OFFERS_TABLE', 'DESCRIPTION_TABLE']"
      ]
     },
     "execution_count": 3,
     "metadata": {},
     "output_type": "execute_result"
    }
   ],
   "source": [
    "cursor = con.cursor()\n",
    "# Getting all tables from sqlite_master\n",
    "sql_query = \"\"\"SELECT name FROM sqlite_master WHERE type='table';\"\"\"\n",
    "cursor.execute(sql_query)\n",
    "sqlite_tables = cursor.fetchall()\n",
    "sqlite_tables = [*map(lambda table: table[0] ,sqlite_tables)]\n",
    "sqlite_tables"
   ]
  },
  {
   "cell_type": "code",
   "execution_count": 4,
   "metadata": {},
   "outputs": [],
   "source": [
    "df = pd.read_sql('SELECT * FROM DESCRIPTION_TABLE', con = con)"
   ]
  },
  {
   "cell_type": "code",
   "execution_count": 5,
   "metadata": {},
   "outputs": [],
   "source": [
    "df_offers = pd.read_sql('SELECT * FROM OFFERS_TABLE', con = con)\n",
    "#file_name=\"Prague_apartments_sale_2023-01-14.gzip\"\n",
    "#df_parquet=pd.read_parquet(file_name)\n",
    "#df_parquet=df_parquet.drop_duplicates()\n",
    "#df_parquet"
   ]
  },
  {
   "cell_type": "code",
   "execution_count": 6,
   "metadata": {},
   "outputs": [],
   "source": [
    "# Closing the connection\n",
    "con.close()"
   ]
  },
  {
   "attachments": {},
   "cell_type": "markdown",
   "metadata": {},
   "source": [
    "#### Data types"
   ]
  },
  {
   "cell_type": "code",
   "execution_count": 7,
   "metadata": {},
   "outputs": [
    {
     "data": {
      "text/plain": [
       "hash_id                          object\n",
       "description                      object\n",
       "discounted                       object\n",
       "price_original                   object\n",
       "id_order                         object\n",
       "date_update                      object\n",
       "building_type                    object\n",
       "building_condition               object\n",
       "building_location                object\n",
       "area_net                         object\n",
       "area_floor                       object\n",
       "price_total                      object\n",
       "price_note                       object\n",
       "transport                        object\n",
       "area_build_up                    object\n",
       "date_moving_in                   object\n",
       "date_building_approval           object\n",
       "equipped                         object\n",
       "electricity                      object\n",
       "traffic_communication            object\n",
       "barrier_free                     object\n",
       "id                               object\n",
       "energy_efficient_rating          object\n",
       "lift                             object\n",
       "building_floor_type              object\n",
       "building_floor                   object\n",
       "water                            object\n",
       "gas                              object\n",
       "waste                            object\n",
       "heating                          object\n",
       "telecommunication                object\n",
       "date_year_reconstruction         object\n",
       "energy_efficient_rating_card     object\n",
       "availability                     object\n",
       "date_offer_start                 object\n",
       "energy_efficient_rating_index    object\n",
       "date_tour                        object\n",
       "date_tour_to                     object\n",
       "area_garden                      object\n",
       "ceiling_height                   object\n",
       "parking                          object\n",
       "price_sqm                        object\n",
       "office_count                     object\n",
       "garage                           object\n",
       "place_count                      object\n",
       "basin                            object\n",
       "area_landplot                    object\n",
       "share_size                       object\n",
       "auction_initial_price            object\n",
       "expert_opinion_official          object\n",
       "auction_min_bid                  object\n",
       "auction_principal                object\n",
       "auction_type                     object\n",
       "auction_place                    object\n",
       "auction_date                     object\n",
       "auction_decree                   object\n",
       "expert_opinion                   object\n",
       "dtype: object"
      ]
     },
     "execution_count": 7,
     "metadata": {},
     "output_type": "execute_result"
    }
   ],
   "source": [
    "df.dtypes"
   ]
  },
  {
   "cell_type": "code",
   "execution_count": 8,
   "metadata": {},
   "outputs": [],
   "source": [
    "# Columns which have spaces between numbers\n",
    "columns_to_transform = [\"price_total\", \"price_sqm\"]\n",
    "for col in columns_to_transform:\n",
    "    # 1.\n",
    "    df[col].replace(np.nan, \"None\", inplace=True)\n",
    "    # 2.\n",
    "    df[col] = df[col].apply(lambda x: x.replace(\"\\xa0\", \"\"))\n",
    "    # 3.\n",
    "    df[col].replace(\"None\", np.nan, inplace=True)"
   ]
  },
  {
   "cell_type": "code",
   "execution_count": 9,
   "metadata": {},
   "outputs": [],
   "source": [
    "# Convert to correct data types   - ? use Int64 (capitalized) instead of float64 for integers columns to keep np.NaN ?\n",
    "settings = {\"hash_id\": np.int64,\n",
    "            \"area_net\" : np.float64,\n",
    "            \"area_floor\" : np.float64,\n",
    "            \"price_total\" : np.float64,\n",
    "            \"area_build_up\" : np.float64,\n",
    "            \"area_garden\" : np.float64,\n",
    "            \"price_sqm\" : np.float64,\n",
    "            \"area_landplot\" : np.float64,\n",
    "            #\"building_floor\" : np.float64,  may contain letters\n",
    "            \"ceiling_height\" : np.float64      \n",
    "}\n",
    "\n",
    "df = df.astype(settings)"
   ]
  },
  {
   "cell_type": "code",
   "execution_count": 12,
   "metadata": {},
   "outputs": [],
   "source": [
    "#df[\"price_sqm\"].isnull().sum()\n",
    "#df[\"price_total\"].isnull().sum()"
   ]
  },
  {
   "cell_type": "code",
   "execution_count": 13,
   "metadata": {},
   "outputs": [
    {
     "data": {
      "text/plain": [
       "hash_id                            int64\n",
       "description                       object\n",
       "discounted                        object\n",
       "price_original                    object\n",
       "id_order                          object\n",
       "date_update                       object\n",
       "building_type                     object\n",
       "building_condition                object\n",
       "building_location                 object\n",
       "area_net                         float64\n",
       "area_floor                       float64\n",
       "price_total                      float64\n",
       "price_note                        object\n",
       "transport                         object\n",
       "area_build_up                    float64\n",
       "date_moving_in                    object\n",
       "date_building_approval            object\n",
       "equipped                          object\n",
       "electricity                       object\n",
       "traffic_communication             object\n",
       "barrier_free                      object\n",
       "id                                object\n",
       "energy_efficient_rating           object\n",
       "lift                              object\n",
       "building_floor_type               object\n",
       "building_floor                    object\n",
       "water                             object\n",
       "gas                               object\n",
       "waste                             object\n",
       "heating                           object\n",
       "telecommunication                 object\n",
       "date_year_reconstruction          object\n",
       "energy_efficient_rating_card      object\n",
       "availability                      object\n",
       "date_offer_start                  object\n",
       "energy_efficient_rating_index     object\n",
       "date_tour                         object\n",
       "date_tour_to                      object\n",
       "area_garden                      float64\n",
       "ceiling_height                   float64\n",
       "parking                           object\n",
       "price_sqm                        float64\n",
       "office_count                      object\n",
       "garage                            object\n",
       "place_count                       object\n",
       "basin                             object\n",
       "area_landplot                    float64\n",
       "share_size                        object\n",
       "auction_initial_price             object\n",
       "expert_opinion_official           object\n",
       "auction_min_bid                   object\n",
       "auction_principal                 object\n",
       "auction_type                      object\n",
       "auction_place                     object\n",
       "auction_date                      object\n",
       "auction_decree                    object\n",
       "expert_opinion                    object\n",
       "dtype: object"
      ]
     },
     "execution_count": 13,
     "metadata": {},
     "output_type": "execute_result"
    }
   ],
   "source": [
    "df.dtypes"
   ]
  },
  {
   "attachments": {},
   "cell_type": "markdown",
   "metadata": {},
   "source": [
    "#### Joining"
   ]
  },
  {
   "cell_type": "code",
   "execution_count": 14,
   "metadata": {},
   "outputs": [],
   "source": [
    "df = df.merge(df_offers, on = \"hash_id\", how = \"inner\")"
   ]
  },
  {
   "cell_type": "code",
   "execution_count": 15,
   "metadata": {},
   "outputs": [],
   "source": [
    "del df_offers"
   ]
  },
  {
   "cell_type": "code",
   "execution_count": 16,
   "metadata": {},
   "outputs": [
    {
     "data": {
      "text/plain": [
       "Index(['hash_id', 'description', 'discounted', 'price_original', 'id_order',\n",
       "       'date_update', 'building_type', 'building_condition',\n",
       "       'building_location', 'area_net', 'area_floor', 'price_total',\n",
       "       'price_note', 'transport', 'area_build_up', 'date_moving_in',\n",
       "       'date_building_approval', 'equipped', 'electricity',\n",
       "       'traffic_communication', 'barrier_free', 'id',\n",
       "       'energy_efficient_rating', 'lift', 'building_floor_type',\n",
       "       'building_floor', 'water', 'gas', 'waste', 'heating',\n",
       "       'telecommunication', 'date_year_reconstruction',\n",
       "       'energy_efficient_rating_card', 'availability', 'date_offer_start',\n",
       "       'energy_efficient_rating_index', 'date_tour', 'date_tour_to',\n",
       "       'area_garden', 'ceiling_height', 'parking', 'price_sqm', 'office_count',\n",
       "       'garage', 'place_count', 'basin', 'area_landplot', 'share_size',\n",
       "       'auction_initial_price', 'expert_opinion_official', 'auction_min_bid',\n",
       "       'auction_principal', 'auction_type', 'auction_place', 'auction_date',\n",
       "       'auction_decree', 'expert_opinion', 'price', 'price_czk',\n",
       "       'price_czk_unit', 'price_czk_name', 'area', 'lat', 'lon', 'locality',\n",
       "       'type', 'category', 'is_auction', 'exclusively_at_rk',\n",
       "       'category_main_cb', 'category_sub_cb', 'category_type_cb', 'company_id',\n",
       "       'company_name'],\n",
       "      dtype='object')"
      ]
     },
     "execution_count": 16,
     "metadata": {},
     "output_type": "execute_result"
    }
   ],
   "source": [
    "df.columns"
   ]
  },
  {
   "attachments": {},
   "cell_type": "markdown",
   "metadata": {},
   "source": [
    "#### Price column?"
   ]
  },
  {
   "cell_type": "code",
   "execution_count": 17,
   "metadata": {},
   "outputs": [
    {
     "data": {
      "text/plain": [
       "Index(['price_original', 'price_total', 'price_note', 'price_sqm',\n",
       "       'auction_initial_price', 'price', 'price_czk', 'price_czk_unit',\n",
       "       'price_czk_name'],\n",
       "      dtype='object')"
      ]
     },
     "execution_count": 17,
     "metadata": {},
     "output_type": "execute_result"
    }
   ],
   "source": [
    "df.columns[df.columns.str.contains(\"price\")]"
   ]
  },
  {
   "cell_type": "code",
   "execution_count": 18,
   "metadata": {},
   "outputs": [
    {
     "data": {
      "text/html": [
       "<div>\n",
       "<style scoped>\n",
       "    .dataframe tbody tr th:only-of-type {\n",
       "        vertical-align: middle;\n",
       "    }\n",
       "\n",
       "    .dataframe tbody tr th {\n",
       "        vertical-align: top;\n",
       "    }\n",
       "\n",
       "    .dataframe thead th {\n",
       "        text-align: right;\n",
       "    }\n",
       "</style>\n",
       "<table border=\"1\" class=\"dataframe\">\n",
       "  <thead>\n",
       "    <tr style=\"text-align: right;\">\n",
       "      <th></th>\n",
       "      <th>price_original</th>\n",
       "      <th>price_total</th>\n",
       "      <th>price_note</th>\n",
       "      <th>price_sqm</th>\n",
       "      <th>auction_initial_price</th>\n",
       "      <th>price</th>\n",
       "      <th>price_czk</th>\n",
       "      <th>price_czk_unit</th>\n",
       "      <th>price_czk_name</th>\n",
       "    </tr>\n",
       "  </thead>\n",
       "  <tbody>\n",
       "    <tr>\n",
       "      <th>0</th>\n",
       "      <td>None</td>\n",
       "      <td>25000000.0</td>\n",
       "      <td>AKCE - SLEVA 4 500 000 Kč do konce ledna</td>\n",
       "      <td>9641.0</td>\n",
       "      <td>None</td>\n",
       "      <td>16282000</td>\n",
       "      <td>16282000</td>\n",
       "      <td></td>\n",
       "      <td>Celková cena</td>\n",
       "    </tr>\n",
       "    <tr>\n",
       "      <th>1</th>\n",
       "      <td>None</td>\n",
       "      <td>6500000.0</td>\n",
       "      <td>včetně DPH, včetně poplatků, včetně provize, v...</td>\n",
       "      <td>6002.0</td>\n",
       "      <td>None</td>\n",
       "      <td>3587000</td>\n",
       "      <td>3587000</td>\n",
       "      <td></td>\n",
       "      <td>Celková cena</td>\n",
       "    </tr>\n",
       "    <tr>\n",
       "      <th>2</th>\n",
       "      <td>None</td>\n",
       "      <td>7900000.0</td>\n",
       "      <td>SKVĚLÁ CENA  - AKCE DO KONCE ÚNORA</td>\n",
       "      <td>7783.0</td>\n",
       "      <td>None</td>\n",
       "      <td>6071000</td>\n",
       "      <td>6071000</td>\n",
       "      <td></td>\n",
       "      <td>Celková cena</td>\n",
       "    </tr>\n",
       "    <tr>\n",
       "      <th>3</th>\n",
       "      <td>None</td>\n",
       "      <td>8600000.0</td>\n",
       "      <td>LEDNOVÁ AKCE - 400 000,- SLEVA</td>\n",
       "      <td>10983.0</td>\n",
       "      <td>None</td>\n",
       "      <td>4967000</td>\n",
       "      <td>4967000</td>\n",
       "      <td></td>\n",
       "      <td>Celková cena</td>\n",
       "    </tr>\n",
       "    <tr>\n",
       "      <th>4</th>\n",
       "      <td>None</td>\n",
       "      <td>15500000.0</td>\n",
       "      <td>15500000</td>\n",
       "      <td>13248.0</td>\n",
       "      <td>None</td>\n",
       "      <td>8555000</td>\n",
       "      <td>8555000</td>\n",
       "      <td></td>\n",
       "      <td>Celková cena</td>\n",
       "    </tr>\n",
       "    <tr>\n",
       "      <th>...</th>\n",
       "      <td>...</td>\n",
       "      <td>...</td>\n",
       "      <td>...</td>\n",
       "      <td>...</td>\n",
       "      <td>...</td>\n",
       "      <td>...</td>\n",
       "      <td>...</td>\n",
       "      <td>...</td>\n",
       "      <td>...</td>\n",
       "    </tr>\n",
       "    <tr>\n",
       "      <th>335</th>\n",
       "      <td>None</td>\n",
       "      <td>4648600.0</td>\n",
       "      <td>None</td>\n",
       "      <td>1258.0</td>\n",
       "      <td>None</td>\n",
       "      <td>2565000</td>\n",
       "      <td>2565000</td>\n",
       "      <td></td>\n",
       "      <td>Celková cena</td>\n",
       "    </tr>\n",
       "    <tr>\n",
       "      <th>336</th>\n",
       "      <td>None</td>\n",
       "      <td>NaN</td>\n",
       "      <td>None</td>\n",
       "      <td>NaN</td>\n",
       "      <td>None</td>\n",
       "      <td>0</td>\n",
       "      <td>0</td>\n",
       "      <td></td>\n",
       "      <td>Celková cena</td>\n",
       "    </tr>\n",
       "    <tr>\n",
       "      <th>337</th>\n",
       "      <td>None</td>\n",
       "      <td>4800000.0</td>\n",
       "      <td>Investice. Cena včetně právního a finančního s...</td>\n",
       "      <td>795.0</td>\n",
       "      <td>None</td>\n",
       "      <td>2649000</td>\n",
       "      <td>2649000</td>\n",
       "      <td></td>\n",
       "      <td>Celková cena</td>\n",
       "    </tr>\n",
       "    <tr>\n",
       "      <th>338</th>\n",
       "      <td>None</td>\n",
       "      <td>NaN</td>\n",
       "      <td>None</td>\n",
       "      <td>NaN</td>\n",
       "      <td>None</td>\n",
       "      <td>0</td>\n",
       "      <td>0</td>\n",
       "      <td></td>\n",
       "      <td>Celková cena</td>\n",
       "    </tr>\n",
       "    <tr>\n",
       "      <th>339</th>\n",
       "      <td>None</td>\n",
       "      <td>28495000.0</td>\n",
       "      <td>None</td>\n",
       "      <td>13900.0</td>\n",
       "      <td>None</td>\n",
       "      <td>15728000</td>\n",
       "      <td>15728000</td>\n",
       "      <td></td>\n",
       "      <td>Celková cena</td>\n",
       "    </tr>\n",
       "  </tbody>\n",
       "</table>\n",
       "<p>340 rows × 9 columns</p>\n",
       "</div>"
      ],
      "text/plain": [
       "    price_original  price_total  \\\n",
       "0             None   25000000.0   \n",
       "1             None    6500000.0   \n",
       "2             None    7900000.0   \n",
       "3             None    8600000.0   \n",
       "4             None   15500000.0   \n",
       "..             ...          ...   \n",
       "335           None    4648600.0   \n",
       "336           None          NaN   \n",
       "337           None    4800000.0   \n",
       "338           None          NaN   \n",
       "339           None   28495000.0   \n",
       "\n",
       "                                            price_note  price_sqm  \\\n",
       "0             AKCE - SLEVA 4 500 000 Kč do konce ledna     9641.0   \n",
       "1    včetně DPH, včetně poplatků, včetně provize, v...     6002.0   \n",
       "2                   SKVĚLÁ CENA  - AKCE DO KONCE ÚNORA     7783.0   \n",
       "3                       LEDNOVÁ AKCE - 400 000,- SLEVA    10983.0   \n",
       "4                                             15500000    13248.0   \n",
       "..                                                 ...        ...   \n",
       "335                                               None     1258.0   \n",
       "336                                               None        NaN   \n",
       "337  Investice. Cena včetně právního a finančního s...      795.0   \n",
       "338                                               None        NaN   \n",
       "339                                               None    13900.0   \n",
       "\n",
       "    auction_initial_price     price  price_czk price_czk_unit price_czk_name  \n",
       "0                    None  16282000   16282000                  Celková cena  \n",
       "1                    None   3587000    3587000                  Celková cena  \n",
       "2                    None   6071000    6071000                  Celková cena  \n",
       "3                    None   4967000    4967000                  Celková cena  \n",
       "4                    None   8555000    8555000                  Celková cena  \n",
       "..                    ...       ...        ...            ...            ...  \n",
       "335                  None   2565000    2565000                  Celková cena  \n",
       "336                  None         0          0                  Celková cena  \n",
       "337                  None   2649000    2649000                  Celková cena  \n",
       "338                  None         0          0                  Celková cena  \n",
       "339                  None  15728000   15728000                  Celková cena  \n",
       "\n",
       "[340 rows x 9 columns]"
      ]
     },
     "execution_count": 18,
     "metadata": {},
     "output_type": "execute_result"
    }
   ],
   "source": [
    "df[df.columns[df.columns.str.contains(\"price\")]]   # price_total column is correct in my opinion!"
   ]
  },
  {
   "cell_type": "code",
   "execution_count": 19,
   "metadata": {},
   "outputs": [],
   "source": [
    "# Drop columns, we do not care about !!!\n",
    "columns_to_drop = ['discounted',\n",
    "                   'price_original', \n",
    "                   'id_order', \n",
    "                   'date_building_approval', \n",
    "                   'id', \n",
    "                   'date_year_reconstruction', \n",
    "                   'date_offer_start',\n",
    "                   'date_tour',\n",
    "                   'date_tour_to',\n",
    "                   'office_count',\n",
    "                   'place_count',\n",
    "                   'share_size',\n",
    "                   'auction_initial_price',\n",
    "                   'expert_opinion_official',\n",
    "                   'auction_min_bid',\n",
    "                   'auction_principal',\n",
    "                   'auction_type',\n",
    "                   'auction_place',\n",
    "                   'auction_date',\n",
    "                   'auction_decree',\n",
    "                   'expert_opinion'\n",
    "                   ]\n",
    "\n",
    "df.drop(columns_to_drop, axis=1, inplace= True)"
   ]
  },
  {
   "attachments": {},
   "cell_type": "markdown",
   "metadata": {},
   "source": [
    "### Processing:"
   ]
  },
  {
   "cell_type": "code",
   "execution_count": 20,
   "metadata": {},
   "outputs": [],
   "source": [
    "columns_w_mult_values = [\"transport\", \"electricity\", \"telecommunication\"]\n",
    "\n",
    "def transformer(value):\n",
    "    if value != None:\n",
    "        return value.split(\"  \")\n",
    "\n",
    "for column in columns_w_mult_values:\n",
    "        df[column] = df[column].apply(lambda row: transformer(row))"
   ]
  },
  {
   "cell_type": "code",
   "execution_count": 21,
   "metadata": {},
   "outputs": [
    {
     "data": {
      "text/html": [
       "<div>\n",
       "<style scoped>\n",
       "    .dataframe tbody tr th:only-of-type {\n",
       "        vertical-align: middle;\n",
       "    }\n",
       "\n",
       "    .dataframe tbody tr th {\n",
       "        vertical-align: top;\n",
       "    }\n",
       "\n",
       "    .dataframe thead th {\n",
       "        text-align: right;\n",
       "    }\n",
       "</style>\n",
       "<table border=\"1\" class=\"dataframe\">\n",
       "  <thead>\n",
       "    <tr style=\"text-align: right;\">\n",
       "      <th></th>\n",
       "      <th>transport</th>\n",
       "      <th>electricity</th>\n",
       "      <th>telecommunication</th>\n",
       "    </tr>\n",
       "  </thead>\n",
       "  <tbody>\n",
       "    <tr>\n",
       "      <th>0</th>\n",
       "      <td>[Vlak, Dálnice, Silnice, MHD, Autobus]</td>\n",
       "      <td>[230V, 400V]</td>\n",
       "      <td>[Internet, Kabelové rozvody]</td>\n",
       "    </tr>\n",
       "    <tr>\n",
       "      <th>1</th>\n",
       "      <td>[Silnice, MHD]</td>\n",
       "      <td>[230V]</td>\n",
       "      <td>None</td>\n",
       "    </tr>\n",
       "    <tr>\n",
       "      <th>2</th>\n",
       "      <td>[Vlak, Silnice, MHD, Autobus]</td>\n",
       "      <td>[230V]</td>\n",
       "      <td>[Telefon, Internet, Kabelové rozvody]</td>\n",
       "    </tr>\n",
       "    <tr>\n",
       "      <th>3</th>\n",
       "      <td>[Vlak, Silnice, MHD, Autobus]</td>\n",
       "      <td>[230V]</td>\n",
       "      <td>[Telefon, Internet, Kabelové rozvody]</td>\n",
       "    </tr>\n",
       "    <tr>\n",
       "      <th>4</th>\n",
       "      <td>None</td>\n",
       "      <td>None</td>\n",
       "      <td>None</td>\n",
       "    </tr>\n",
       "    <tr>\n",
       "      <th>...</th>\n",
       "      <td>...</td>\n",
       "      <td>...</td>\n",
       "      <td>...</td>\n",
       "    </tr>\n",
       "    <tr>\n",
       "      <th>335</th>\n",
       "      <td>None</td>\n",
       "      <td>None</td>\n",
       "      <td>None</td>\n",
       "    </tr>\n",
       "    <tr>\n",
       "      <th>336</th>\n",
       "      <td>[Dálnice, MHD]</td>\n",
       "      <td>None</td>\n",
       "      <td>None</td>\n",
       "    </tr>\n",
       "    <tr>\n",
       "      <th>337</th>\n",
       "      <td>None</td>\n",
       "      <td>None</td>\n",
       "      <td>None</td>\n",
       "    </tr>\n",
       "    <tr>\n",
       "      <th>338</th>\n",
       "      <td>[MHD]</td>\n",
       "      <td>None</td>\n",
       "      <td>None</td>\n",
       "    </tr>\n",
       "    <tr>\n",
       "      <th>339</th>\n",
       "      <td>None</td>\n",
       "      <td>[400V]</td>\n",
       "      <td>None</td>\n",
       "    </tr>\n",
       "  </tbody>\n",
       "</table>\n",
       "<p>340 rows × 3 columns</p>\n",
       "</div>"
      ],
      "text/plain": [
       "                                  transport   electricity  \\\n",
       "0    [Vlak, Dálnice, Silnice, MHD, Autobus]  [230V, 400V]   \n",
       "1                            [Silnice, MHD]        [230V]   \n",
       "2             [Vlak, Silnice, MHD, Autobus]        [230V]   \n",
       "3             [Vlak, Silnice, MHD, Autobus]        [230V]   \n",
       "4                                      None          None   \n",
       "..                                      ...           ...   \n",
       "335                                    None          None   \n",
       "336                          [Dálnice, MHD]          None   \n",
       "337                                    None          None   \n",
       "338                                   [MHD]          None   \n",
       "339                                    None        [400V]   \n",
       "\n",
       "                         telecommunication  \n",
       "0             [Internet, Kabelové rozvody]  \n",
       "1                                     None  \n",
       "2    [Telefon, Internet, Kabelové rozvody]  \n",
       "3    [Telefon, Internet, Kabelové rozvody]  \n",
       "4                                     None  \n",
       "..                                     ...  \n",
       "335                                   None  \n",
       "336                                   None  \n",
       "337                                   None  \n",
       "338                                   None  \n",
       "339                                   None  \n",
       "\n",
       "[340 rows x 3 columns]"
      ]
     },
     "execution_count": 21,
     "metadata": {},
     "output_type": "execute_result"
    }
   ],
   "source": [
    "df[columns_w_mult_values]"
   ]
  },
  {
   "cell_type": "code",
   "execution_count": 22,
   "metadata": {},
   "outputs": [],
   "source": [
    "possible_values = {\"transport\" : [\"Vlak\", \"Dálnice\", \"Silnice\", \"MHD\", \"Autobus\"],\n",
    "                   \"electricity\" : [\"230V\", \"400V\", \"120V\"],\n",
    "                   \"telecommunication\" : [\"Internet\", \"Telefon\", \"Kabelové rozvody\", \"Satelit\", \"Kabelová televize\"] # \"Ostatní\"\n",
    "                    }\n",
    "\n",
    "def transformer(value):\n",
    "    if value != None:\n",
    "        if y in value:\n",
    "            return True\n",
    "        else:\n",
    "            return False\n",
    "\n",
    "for i in possible_values:\n",
    "    for y in possible_values[i]:\n",
    "        df[y] = df[i].apply(lambda row: transformer(row))"
   ]
  },
  {
   "cell_type": "code",
   "execution_count": 23,
   "metadata": {},
   "outputs": [],
   "source": [
    "columns = [\"lift\", \"equipped\", \"barrier_free\"] # 'basin', \"garage\", \"parking\" | (\"transport\", \"electricity\", \"telecommunication\")\n",
    "for col in columns:\n",
    "    df[col].replace(np.nan, \"false\", inplace = True)"
   ]
  },
  {
   "attachments": {},
   "cell_type": "markdown",
   "metadata": {},
   "source": [
    "### TODO: Missing values, outliers, EDA"
   ]
  },
  {
   "cell_type": "code",
   "execution_count": null,
   "metadata": {},
   "outputs": [],
   "source": [
    "#df = df.drop_duplicates(subset=df.columns)"
   ]
  },
  {
   "attachments": {},
   "cell_type": "markdown",
   "metadata": {},
   "source": [
    "Missing values:"
   ]
  },
  {
   "cell_type": "code",
   "execution_count": 24,
   "metadata": {},
   "outputs": [
    {
     "name": "stdout",
     "output_type": "stream",
     "text": [
      "building_type : 340\n",
      "building_condition : 340\n",
      "building_location : 174\n",
      "area_net : 340\n",
      "area_floor : 340\n",
      "price_total : 82\n",
      "price_note : 165\n",
      "transport : 184\n",
      "area_build_up : 340\n",
      "date_moving_in : 278\n",
      "electricity : 198\n",
      "traffic_communication : 225\n",
      "energy_efficient_rating : 340\n",
      "building_floor_type : 340\n",
      "building_floor : 340\n",
      "water : 202\n",
      "gas : 246\n",
      "waste : 205\n",
      "heating : 307\n",
      "telecommunication : 308\n",
      "energy_efficient_rating_card : 340\n",
      "availability : 339\n",
      "energy_efficient_rating_index : 340\n",
      "area_garden : 340\n",
      "ceiling_height : 340\n",
      "parking : 340\n",
      "price_sqm : 73\n",
      "garage : 340\n",
      "basin : 340\n",
      "company_id : 201\n",
      "company_name : 201\n",
      "Vlak : 184\n",
      "Dálnice : 184\n",
      "Silnice : 184\n",
      "MHD : 184\n",
      "Autobus : 184\n",
      "230V : 198\n",
      "400V : 198\n",
      "120V : 198\n",
      "Internet : 308\n",
      "Telefon : 308\n",
      "Kabelové rozvody : 308\n",
      "Satelit : 308\n",
      "Kabelová televize : 308\n"
     ]
    },
    {
     "data": {
      "text/plain": [
       "<AxesSubplot:>"
      ]
     },
     "execution_count": 24,
     "metadata": {},
     "output_type": "execute_result"
    },
    {
     "data": {
      "image/png": "[encoded data removed]",
      "text/plain": [
       "<Figure size 432x288 with 1 Axes>"
      ]
     },
     "metadata": {
      "needs_background": "light"
     },
     "output_type": "display_data"
    }
   ],
   "source": [
    "columns_na = [col for col in df.columns if df[col].isna().sum() != 0]\n",
    "columns_na\n",
    "for col in columns_na:\n",
    "    print(col,\":\",df[col].isna().sum())\n",
    "df[columns_na].isna().sum().plot(kind=\"bar\")"
   ]
  },
  {
   "cell_type": "code",
   "execution_count": 25,
   "metadata": {},
   "outputs": [
    {
     "data": {
      "text/plain": [
       "Praha                               29\n",
       "Praha 6 - Dejvice                   13\n",
       "Praha 9 - Horní Počernice           11\n",
       "Praha 8 - Bohnice                   10\n",
       "Praha 5 - Stodůlky                   8\n",
       "                                    ..\n",
       "Praha 10 - Strašnice                 1\n",
       "Praha 9 - Malešice                   1\n",
       "Praha 5 - Praha 16                   1\n",
       "Praha 7 - Troja                      1\n",
       "Praha 10 - Praha-Dolní Měcholupy     1\n",
       "Name: locality, Length: 102, dtype: int64"
      ]
     },
     "execution_count": 25,
     "metadata": {},
     "output_type": "execute_result"
    }
   ],
   "source": [
    "df.locality.value_counts()#.plot(kind=\"bar\")"
   ]
  },
  {
   "attachments": {},
   "cell_type": "markdown",
   "metadata": {},
   "source": [
    "# Price:"
   ]
  },
  {
   "cell_type": "code",
   "execution_count": 103,
   "metadata": {},
   "outputs": [],
   "source": [
    "#df.dropna(subset=[\"price_total\"], axis=0, inplace = True) | Fill NaN - medium price in different Regions?"
   ]
  },
  {
   "cell_type": "code",
   "execution_count": 26,
   "metadata": {},
   "outputs": [
    {
     "data": {
      "text/plain": [
       "0      25000000.0\n",
       "1       6500000.0\n",
       "2       7900000.0\n",
       "3       8600000.0\n",
       "4      15500000.0\n",
       "          ...    \n",
       "335     4648600.0\n",
       "336           NaN\n",
       "337     4800000.0\n",
       "338           NaN\n",
       "339    28495000.0\n",
       "Name: price_total, Length: 340, dtype: float64"
      ]
     },
     "execution_count": 26,
     "metadata": {},
     "output_type": "execute_result"
    }
   ],
   "source": [
    "df[\"price_total\"]"
   ]
  },
  {
   "cell_type": "code",
   "execution_count": 27,
   "metadata": {},
   "outputs": [
    {
     "data": {
      "text/plain": [
       "count    2.580000e+02\n",
       "mean     1.771041e+07\n",
       "std      3.243626e+07\n",
       "min      4.900000e+04\n",
       "25%      4.864222e+06\n",
       "50%      1.099250e+07\n",
       "75%      1.897500e+07\n",
       "max      3.565175e+08\n",
       "Name: price_total, dtype: float64"
      ]
     },
     "execution_count": 27,
     "metadata": {},
     "output_type": "execute_result"
    }
   ],
   "source": [
    "df[\"price_total\"].describe()"
   ]
  },
  {
   "attachments": {},
   "cell_type": "markdown",
   "metadata": {},
   "source": [
    "### Area"
   ]
  },
  {
   "cell_type": "code",
   "execution_count": 29,
   "metadata": {},
   "outputs": [
    {
     "data": {
      "text/plain": [
       "0      2593\n",
       "1      1083\n",
       "2      1015\n",
       "3       783\n",
       "4      1170\n",
       "       ... \n",
       "335    3695\n",
       "336    1074\n",
       "337    6036\n",
       "338    3388\n",
       "339    2050\n",
       "Name: area, Length: 340, dtype: int64"
      ]
     },
     "execution_count": 29,
     "metadata": {},
     "output_type": "execute_result"
    }
   ],
   "source": [
    "df[\"area\"]  # Wrong values ?"
   ]
  },
  {
   "cell_type": "code",
   "execution_count": 30,
   "metadata": {},
   "outputs": [
    {
     "data": {
      "text/plain": [
       "count    3.400000e+02\n",
       "mean     4.036078e+08\n",
       "std      7.441749e+09\n",
       "min      1.000000e+00\n",
       "25%      7.022500e+02\n",
       "50%      1.322500e+03\n",
       "75%      4.241250e+03\n",
       "max      1.372191e+11\n",
       "Name: area, dtype: float64"
      ]
     },
     "execution_count": 30,
     "metadata": {},
     "output_type": "execute_result"
    }
   ],
   "source": [
    "df[\"area\"].describe()"
   ]
  }
 ],
 "metadata": {
  "kernelspec": {
   "display_name": "base",
   "language": "python",
   "name": "python3"
  },
  "language_info": {
   "codemirror_mode": {
    "name": "ipython",
    "version": 3
   },
   "file_extension": ".py",
   "mimetype": "text/x-python",
   "name": "python",
   "nbconvert_exporter": "python",
   "pygments_lexer": "ipython3",
   "version": "3.9.7"
  },
  "orig_nbformat": 4,
  "vscode": {
   "interpreter": {
    "hash": "4630defebcb174adb9835822cfb543c569d391e08482392016d7a581c1c6df1a"
   }
  }
 },
 "nbformat": 4,
 "nbformat_minor": 2
}
