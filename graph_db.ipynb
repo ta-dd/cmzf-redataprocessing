{
 "cells": [
  {
   "cell_type": "code",
   "execution_count": 1,
   "metadata": {},
   "outputs": [],
   "source": [
    "from diagrams import Diagram, Cluster, Edge\n",
    "from diagrams.programming.language import Python\n",
    "from diagrams.aws.database import Database as DB\n",
    "from diagrams.onprem.analytics import Powerbi, Tableau"
   ]
  },
  {
   "cell_type": "code",
   "execution_count": 8,
   "metadata": {},
   "outputs": [],
   "source": [
    "with Diagram(\"Architecture of the whole repo\", show=True):\n",
    "    with Cluster(\"redataprocessing package\"):\n",
    "        offers_download = Python(\"sreality.py\") \n",
    "        Python(\"sreality_api_dictionaries\") >> offers_download\n",
    "        offers_description=Python(\"description_asyncio\") >> Python(\"description_download_dec\")\n",
    "        offers_description >> offers_download\n",
    "        \n",
    "    with Cluster(\"Exploratory data analysis\"):\n",
    "        data_analysis=Python(\"EDA - Flats for sale.ipynb\")\n",
    "    \n",
    "    with Cluster(\"SQLite with decoded data\"):\n",
    "        db_lists = DB(\"tables with offers\")\n",
    "        db_desc = DB(\"table with descriptions\")\n",
    "\n",
    "    offers_download >> db_lists\n",
    "    offers_download >> db_desc\n",
    "    db_desc >> data_analysis\n",
    "    db_lists >> data_analysis"
   ]
  }
 ],
 "metadata": {
  "kernelspec": {
   "display_name": "Python 3.11.1 64-bit",
   "language": "python",
   "name": "python3"
  },
  "language_info": {
   "codemirror_mode": {
    "name": "ipython",
    "version": 3
   },
   "file_extension": ".py",
   "mimetype": "text/x-python",
   "name": "python",
   "nbconvert_exporter": "python",
   "pygments_lexer": "ipython3",
   "version": "3.11.1"
  },
  "orig_nbformat": 4,
  "vscode": {
   "interpreter": {
    "hash": "aee8b7b246df8f9039afb4144a1f6fd8d2ca17a180786b69acc140d282b71a49"
   }
  }
 },
 "nbformat": 4,
 "nbformat_minor": 2
}
