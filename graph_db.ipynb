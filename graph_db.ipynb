{
 "cells": [
  {
   "cell_type": "code",
   "execution_count": 5,
   "metadata": {},
   "outputs": [],
   "source": [
    "from diagrams import Diagram\n",
    "from diagrams.k8s.clusterconfig import HPA\n",
    "from diagrams.k8s.compute import Deployment, Pod, ReplicaSet\n",
    "from diagrams.k8s.network import Ingress, Service"
   ]
  },
  {
   "cell_type": "code",
   "execution_count": 6,
   "metadata": {},
   "outputs": [],
   "source": [
    "with Diagram(\"Exposed Pod with 3 Replicas\", show=True):\n",
    "    net = Ingress(\"domain.com\") >> Service(\"svc\")\n",
    "    net >> [Pod(\"pod1\"),\n",
    "            Pod(\"pod2\"),\n",
    "            Pod(\"pod3\")] << ReplicaSet(\"rs\") << Deployment(\"dp\") << HPA(\"hpa\")"
   ]
  }
 ],
 "metadata": {
  "kernelspec": {
   "display_name": "Python 3.11.1 64-bit",
   "language": "python",
   "name": "python3"
  },
  "language_info": {
   "codemirror_mode": {
    "name": "ipython",
    "version": 3
   },
   "file_extension": ".py",
   "mimetype": "text/x-python",
   "name": "python",
   "nbconvert_exporter": "python",
   "pygments_lexer": "ipython3",
   "version": "3.11.1"
  },
  "orig_nbformat": 4,
  "vscode": {
   "interpreter": {
    "hash": "20e40d8fc09a6690434ad602c7eb2d8de15d36ec466bfbfb0de97c7c540d7363"
   }
  }
 },
 "nbformat": 4,
 "nbformat_minor": 2
}
