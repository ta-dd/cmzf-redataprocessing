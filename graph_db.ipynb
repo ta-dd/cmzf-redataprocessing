{
 "cells": [
  {
   "cell_type": "code",
   "execution_count": 2,
   "metadata": {},
   "outputs": [],
   "source": [
    "from diagrams import Diagram, Cluster, Edge\n",
    "from diagrams.programming.language import Python\n",
    "from diagrams.aws.database import Database as DB\n",
    "from diagrams.onprem.analytics import Powerbi, Tableau"
   ]
  },
  {
   "cell_type": "code",
   "execution_count": 5,
   "metadata": {},
   "outputs": [],
   "source": [
    "with Diagram(\"Scraper of Sreality.cz\", show=True):\n",
    "    with Cluster(\"Lists of offers - offers_download.ipynb\"):\n",
    "        offers_download = Python(\"requesting lists\") >> DB(\"json lists\") >> Python(\"decoding lists\")\n",
    "    \n",
    "    with Cluster(\"Detailed description of offers\"):\n",
    "        with Cluster(\"Downloading with Asyncio - description_download_async.ipynb\"):\n",
    "            description_download = Python(\"requesting desc\")\n",
    "            desc_json=description_download >> DB(\"json desc\")\n",
    "        \n",
    "        with Cluster(\"Decoding - description_decoding.ipynb\"):\n",
    "            description_decoding = Python(\"decoding desc\")\n",
    "        \n",
    "    with Cluster(\"Data analysis\"):\n",
    "        data_analysis=Python(\"data analysis\")\n",
    "        data_analysis \\\n",
    "            - Edge(color=\"white\", style=\"dashed\") - Powerbi(\"data analysis\")\n",
    "        data_analysis  \\\n",
    "            - Edge(color=\"white\", style=\"dashed\") - Tableau(\"data analysis\")\n",
    "    \n",
    "    with Cluster(\"SQLite with decoded data\"):\n",
    "        db_lists = DB(\"df with lists\")\n",
    "        db_desc = DB(\"df with descriptions\")\n",
    "\n",
    "    offers_download >> db_lists >> Edge(label=\"using hash_id\") >> description_download\n",
    "    desc_json >> description_decoding >> db_desc\n",
    "    db_desc >> data_analysis\n",
    "    db_lists >> data_analysis"
   ]
  }
 ],
 "metadata": {
  "kernelspec": {
   "display_name": "Python 3.11.1 64-bit",
   "language": "python",
   "name": "python3"
  },
  "language_info": {
   "codemirror_mode": {
    "name": "ipython",
    "version": 3
   },
   "file_extension": ".py",
   "mimetype": "text/x-python",
   "name": "python",
   "nbconvert_exporter": "python",
   "pygments_lexer": "ipython3",
   "version": "3.11.1"
  },
  "orig_nbformat": 4,
  "vscode": {
   "interpreter": {
    "hash": "20e40d8fc09a6690434ad602c7eb2d8de15d36ec466bfbfb0de97c7c540d7363"
   }
  }
 },
 "nbformat": 4,
 "nbformat_minor": 2
}
