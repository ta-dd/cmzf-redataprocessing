{
 "cells": [
  {
   "cell_type": "code",
   "execution_count": 1,
   "metadata": {},
   "outputs": [
    {
     "name": "stdout",
     "output_type": "stream",
     "text": [
      "Collecting redataprocessing\n",
      "  Downloading redataprocessing-0.0.4.tar.gz (8.7 kB)\n",
      "  Installing build dependencies: started\n",
      "  Installing build dependencies: finished with status 'done'\n",
      "  Getting requirements to build wheel: started\n",
      "  Getting requirements to build wheel: finished with status 'done'\n",
      "  Installing backend dependencies: started\n",
      "  Installing backend dependencies: finished with status 'done'\n",
      "    Preparing wheel metadata: started\n",
      "    Preparing wheel metadata: finished with status 'done'\n",
      "Building wheels for collected packages: redataprocessing\n",
      "  Building wheel for redataprocessing (PEP 517): started\n",
      "  Building wheel for redataprocessing (PEP 517): finished with status 'done'\n",
      "  Created wheel for redataprocessing: filename=redataprocessing-0.0.4-py3-none-any.whl size=9603 sha256=e3276803590523310342142e6b3396da37bcb231a872afd892aa048294354e68\n",
      "  Stored in directory: c:\\users\\novot\\appdata\\local\\pip\\cache\\wheels\\f8\\6d\\1f\\1feccfee240397fdd4472b63c3950cefb2a9058356126c1189\n",
      "Successfully built redataprocessing\n",
      "Installing collected packages: redataprocessing\n",
      "Successfully installed redataprocessing-0.0.4\n"
     ]
    }
   ],
   "source": [
    "!pip install redataprocessing"
   ]
  },
  {
   "cell_type": "code",
   "execution_count": 3,
   "metadata": {},
   "outputs": [],
   "source": [
    "import sreality"
   ]
  },
  {
   "cell_type": "code",
   "execution_count": 4,
   "metadata": {},
   "outputs": [
    {
     "data": {
      "text/plain": [
       "['__builtins__',\n",
       " '__cached__',\n",
       " '__doc__',\n",
       " '__file__',\n",
       " '__loader__',\n",
       " '__name__',\n",
       " '__package__',\n",
       " '__path__',\n",
       " '__spec__']"
      ]
     },
     "execution_count": 4,
     "metadata": {},
     "output_type": "execute_result"
    }
   ],
   "source": [
    "dir(sreality)"
   ]
  },
  {
   "cell_type": "code",
   "execution_count": 9,
   "metadata": {},
   "outputs": [],
   "source": [
    " from sreality.sreality_api_dictionaries import description_items_dict"
   ]
  },
  {
   "cell_type": "code",
   "execution_count": 10,
   "metadata": {},
   "outputs": [
    {
     "data": {
      "text/plain": [
       "{'Zlevněno': 'discounted',\n",
       " 'Původní cena': 'price_original',\n",
       " 'ID zakázky': 'id_order',\n",
       " 'Aktualizace': 'date_update',\n",
       " 'Stavba': 'building_type',\n",
       " 'Stav objektu': 'building_condition',\n",
       " 'Umístění objektu': 'building_location',\n",
       " 'Užitná plocha': 'area_net',\n",
       " 'Plocha podlahová': 'area_floor',\n",
       " 'Celková cena': 'price_total',\n",
       " 'Poznámka k ceně': 'price_note',\n",
       " 'Doprava': 'transport',\n",
       " 'Plocha zastavěná': 'area_build_up',\n",
       " 'Datum nastěhování': 'date_moving_in',\n",
       " 'Rok kolaudace': 'date_building_approval',\n",
       " 'Vybavení': 'equipped',\n",
       " 'Elektřina': 'electricity',\n",
       " 'Komunikace': 'traffic_communication',\n",
       " 'Bezbariérový': 'barrier_free',\n",
       " 'ID': 'id',\n",
       " 'Energetická náročnost budovy': 'energy_efficient_rating',\n",
       " 'Výtah': 'lift',\n",
       " 'Typ domu': 'building_floor_type',\n",
       " 'Podlaží': 'building_floor',\n",
       " 'Voda': 'water',\n",
       " 'Plyn': 'gas',\n",
       " 'Odpad': 'waste',\n",
       " 'Topení': 'heating',\n",
       " 'Telekomunikace': 'telecommunication',\n",
       " 'Rok rekonstrukce': 'date_year_reconstruction',\n",
       " 'Průkaz energetické náročnosti budovy': 'energy_efficient_rating_card',\n",
       " 'Stav': 'availability',\n",
       " 'Datum zahájení prodeje': 'date_offer_start',\n",
       " 'Ukazatel energetické náročnosti budovy': 'energy_efficient_rating_index',\n",
       " 'Datum prohlídky': 'date_tour',\n",
       " 'Datum prohlídky do': 'date_tour_to',\n",
       " 'Termín 1. prohlídky': 'date_tour_first',\n",
       " 'Termín 2. prohlídky': 'date_tour_second',\n",
       " 'Termín 3. prohlídky': 'date_tour_third',\n",
       " 'Plocha zahrady': 'area_garden',\n",
       " 'Výška stropu': 'ceiling_height',\n",
       " 'Parkování': 'parking',\n",
       " 'Cena za m²': 'price_sqm',\n",
       " 'Počet kanceláří': 'office_count',\n",
       " 'Garáž': 'garage',\n",
       " 'Počet míst': 'place_count',\n",
       " 'Bazén': 'basin',\n",
       " 'Plocha pozemku': 'area_landplot',\n",
       " 'Velikost podílu': 'share_size',\n",
       " 'Vyvolávací cena': 'auction_initial_price',\n",
       " 'Znalecký posudek': 'expert_opinion_official',\n",
       " 'Minimální příhoz': 'auction_min_bid',\n",
       " 'Aukční jistina': 'auction_principal',\n",
       " 'Druh dražby': 'auction_type',\n",
       " 'Místo konání dražby': 'auction_place',\n",
       " 'Datum konání dražby': 'auction_date',\n",
       " 'Dražební vyhláška': 'auction_decree',\n",
       " 'Posudek znalce': 'expert_opinion'}"
      ]
     },
     "execution_count": 10,
     "metadata": {},
     "output_type": "execute_result"
    }
   ],
   "source": [
    "description_items_dict()"
   ]
  }
 ],
 "metadata": {
  "kernelspec": {
   "display_name": "base",
   "language": "python",
   "name": "python3"
  },
  "language_info": {
   "codemirror_mode": {
    "name": "ipython",
    "version": 3
   },
   "file_extension": ".py",
   "mimetype": "text/x-python",
   "name": "python",
   "nbconvert_exporter": "python",
   "pygments_lexer": "ipython3",
   "version": "3.9.7"
  },
  "orig_nbformat": 4,
  "vscode": {
   "interpreter": {
    "hash": "4630defebcb174adb9835822cfb543c569d391e08482392016d7a581c1c6df1a"
   }
  }
 },
 "nbformat": 4,
 "nbformat_minor": 2
}
