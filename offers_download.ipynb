{
 "cells": [
  {
   "cell_type": "code",
   "execution_count": 139,
   "metadata": {},
   "outputs": [],
   "source": [
    "import pandas as pd\n",
    "import numpy as np\n",
    "import os\n",
    "\n",
    "import requests\n",
    "\n",
    "from datetime import date\n",
    "from time import sleep \n",
    "\n",
    "import tqdm\n",
    "import re \n",
    "\n",
    "from typing import Dict, List \n",
    "\n",
    "from random import randint"
   ]
  },
  {
   "cell_type": "code",
   "execution_count": 140,
   "metadata": {},
   "outputs": [],
   "source": [
    "today=str(date.today())"
   ]
  },
  {
   "cell_type": "markdown",
   "metadata": {},
   "source": [
    "# Add parameters"
   ]
  },
  {
   "cell_type": "code",
   "execution_count": 141,
   "metadata": {},
   "outputs": [
    {
     "name": "stdout",
     "output_type": "stream",
     "text": [
      "/Users/vojtechkania/Library/CloudStorage/OneDrive-UniverzitaKarlova/Data Processing in Python/re_data_processing/CB_landplots_sale_2023-01-03.gzip\n"
     ]
    }
   ],
   "source": [
    "exp_file_name=(\"CB_landplots_sale_\"+today+\".gzip\")\n",
    "exp_file_path=str(os.path.dirname(os.path.realpath(\"__file__\")))\n",
    "print(exp_file_path+\"/\"+exp_file_name)"
   ]
  },
  {
   "cell_type": "code",
   "execution_count": 142,
   "metadata": {},
   "outputs": [],
   "source": [
    "category_main_cb = 3 # 1=byty, 2=domy, 3=pozemky, 4=komerční, 5=ostatní\n",
    "category_type_cb = 1 # 1=prodej, 2=nájem, 3=dražba\n",
    "category_sub_cb = [] # 34=garáže, 52=garážové stání\n",
    "locality_region_id = [10] #10=Praha, 11=Středočeský kraj, 5: Liberecký kraj, 1: Českobudějovický kraj"
   ]
  },
  {
   "cell_type": "markdown",
   "metadata": {},
   "source": [
    "# Code "
   ]
  },
  {
   "cell_type": "code",
   "execution_count": 143,
   "metadata": {},
   "outputs": [
    {
     "name": "stdout",
     "output_type": "stream",
     "text": [
      "\n",
      "1\n"
     ]
    }
   ],
   "source": [
    "category_sub_cb_string = '%7C'.join(str(v) for v in category_sub_cb)\n",
    "print(category_sub_cb_string)\n",
    "\n",
    "locality_region_id_string = '%7C'.join(str(v) for v in locality_region_id)\n",
    "print(locality_region_id_string)"
   ]
  },
  {
   "cell_type": "code",
   "execution_count": 144,
   "metadata": {},
   "outputs": [
    {
     "name": "stdout",
     "output_type": "stream",
     "text": [
      "  category_main_cb\n",
      "1             byty\n",
      "2             domy\n",
      "3          pozemky\n",
      "4         komerční\n",
      "5          ostatní\n",
      "   category_sub_cb\n",
      "2             1+kk\n",
      "3              1+1\n",
      "4             2+kk\n",
      "5              2+2\n",
      "6             2+kk\n",
      "34           garáž\n",
      "52  garážové stání\n",
      "  category_type_cb\n",
      "1           prodej\n",
      "2            nájem\n",
      "3           dražba\n",
      "   locality_region_id\n",
      "10              Praha\n",
      "11   Středočeský kraj\n",
      "5      Liberecký kraj\n"
     ]
    }
   ],
   "source": [
    "#https://1.im.cz/seznam/blog/articles/import.pdf\n",
    "category_main_cb_dict={1:\"byty\", 2:\"domy\", 3:\"pozemky\", 4:\"komerční\", 5:\"ostatní\"}\n",
    "category_main_cb_dict=pd.DataFrame.from_dict(category_main_cb_dict, orient=\"index\", columns=[\"category_main_cb\"])\n",
    "print(category_main_cb_dict)\n",
    "\n",
    "category_sub_cb_dict={\n",
    "    2:\"1+kk\", \n",
    "    3:\"1+1\", \n",
    "    4:\"2+kk\", \n",
    "    5:\"2+2\", \n",
    "    6:\"2+kk\",\n",
    "    34:\"garáž\",\n",
    "    52:\"garážové stání\"}\n",
    "category_sub_cb_dict=pd.DataFrame.from_dict(category_sub_cb_dict, orient=\"index\", columns=[\"category_sub_cb\"])\n",
    "print(category_sub_cb_dict)\n",
    "\n",
    "category_type_cb_dict={1:\"prodej\", 2:\"nájem\", 3:\"dražba\"}\n",
    "category_type_cb_dict=pd.DataFrame.from_dict(category_type_cb_dict, orient=\"index\", columns=[\"category_type_cb\"])\n",
    "print(category_type_cb_dict)\n",
    "\n",
    "locality_region_id_dict={10:\"Praha\", 11:\"Středočeský kraj\", 5:\"Liberecký kraj\"}\n",
    "locality_region_id_dict=pd.DataFrame.from_dict(locality_region_id_dict, orient=\"index\", columns=[\"locality_region_id\"])\n",
    "print(locality_region_id_dict)"
   ]
  },
  {
   "cell_type": "code",
   "execution_count": 145,
   "metadata": {},
   "outputs": [
    {
     "name": "stdout",
     "output_type": "stream",
     "text": [
      "starting sleep\n",
      "Page 1 was scraped.\n",
      "starting sleep\n",
      "Page 2 was scraped.\n",
      "starting sleep\n",
      "Page 3 was scraped.\n",
      "starting sleep\n",
      "Page 4 was scraped.\n",
      "starting sleep\n",
      "Page 5 was scraped.\n",
      "starting sleep\n",
      "Page 6 was scraped.\n",
      "starting sleep\n",
      "Page 7 was scraped.\n",
      "starting sleep\n",
      "Page 8 was scraped.\n",
      "starting sleep\n",
      "Page 9 was scraped.\n",
      "starting sleep\n",
      "Page 10 was scraped.\n",
      "starting sleep\n",
      "Page 11 was scraped.\n",
      "starting sleep\n",
      "Page 12 was scraped.\n",
      "starting sleep\n",
      "Page 13 was scraped.\n",
      "starting sleep\n",
      "Page 14 was scraped.\n",
      "starting sleep\n",
      "Page 15 was scraped.\n",
      "starting sleep\n",
      "Page 16 was scraped.\n",
      "starting sleep\n",
      "Page 17 was scraped.\n",
      "starting sleep\n",
      "Page 18 was scraped.\n",
      "starting sleep\n",
      "Page 19 was scraped.\n",
      "starting sleep\n",
      "Page 20 was scraped.\n",
      "starting sleep\n",
      "Page 21 was scraped.\n",
      "starting sleep\n",
      "Page 22 was scraped.\n",
      "starting sleep\n",
      "Page 23 was scraped.\n",
      "starting sleep\n",
      "Page 24 was scraped.\n",
      "starting sleep\n",
      "Page 25 was scraped.\n",
      "starting sleep\n",
      "Page 26 was scraped.\n",
      "starting sleep\n",
      "Page 27 was scraped.\n",
      "starting sleep\n",
      "Page 28 was scraped.\n",
      "starting sleep\n",
      "Page 29 was scraped.\n",
      "starting sleep\n",
      "Page 30 was scraped.\n",
      "starting sleep\n",
      "Page 31 was scraped.\n",
      "starting sleep\n",
      "Page 32 was scraped.\n",
      "starting sleep\n",
      "Page 33 was scraped.\n",
      "starting sleep\n",
      "Page 34 was scraped.\n",
      "starting sleep\n",
      "Page 35 was scraped.\n",
      "starting sleep\n",
      "Page 36 was scraped.\n",
      "starting sleep\n",
      "Page 37 was scraped.\n",
      "starting sleep\n",
      "Page 38 was scraped.\n",
      "starting sleep\n",
      "Page 39 was scraped.\n",
      "starting sleep\n",
      "Page 40 was scraped.\n",
      "starting sleep\n",
      "Page 41 was scraped.\n",
      "starting sleep\n",
      "Page 42 was scraped.\n",
      "starting sleep\n",
      "Page 43 was scraped.\n",
      "starting sleep\n",
      "Page 44 was scraped.\n",
      "starting sleep\n",
      "Page 45 was scraped.\n",
      "starting sleep\n",
      "Page 46 was scraped.\n",
      "starting sleep\n",
      "Page 47 was scraped.\n",
      "starting sleep\n",
      "Page 48 was scraped.\n",
      "starting sleep\n",
      "Page 49 was scraped.\n",
      "starting sleep\n",
      "Page 50 was scraped.\n",
      "starting sleep\n",
      "Page 51 was scraped.\n",
      "starting sleep\n",
      "Page 52 was scraped.\n",
      "starting sleep\n",
      "Page 53 was scraped.\n",
      "starting sleep\n",
      "Page 54 was scraped.\n",
      "starting sleep\n",
      "Page 55 was scraped.\n",
      "starting sleep\n",
      "Page 56 was scraped.\n",
      "starting sleep\n",
      "Page 57 was scraped.\n",
      "starting sleep\n",
      "Page 58 was scraped.\n",
      "starting sleep\n",
      "Page 59 was scraped.\n",
      "starting sleep\n",
      "Page 60 was scraped.\n",
      "starting sleep\n",
      "Page 61 was scraped.\n",
      "starting sleep\n",
      "Page 62 was scraped.\n",
      "starting sleep\n",
      "Page 63 was scraped.\n",
      "starting sleep\n",
      "Page 64 was scraped.\n",
      "starting sleep\n",
      "Page 65 was scraped.\n",
      "starting sleep\n",
      "Page 66 was scraped.\n",
      "starting sleep\n",
      "Page 67 was scraped.\n",
      "starting sleep\n",
      "Page 68 was scraped.\n",
      "starting sleep\n",
      "Page 69 was scraped.\n",
      "starting sleep\n",
      "Page 70 was scraped.\n",
      "starting sleep\n",
      "Page 71 was scraped.\n",
      "starting sleep\n",
      "Page 72 was scraped.\n",
      "starting sleep\n",
      "Page 73 is blank.\n"
     ]
    }
   ],
   "source": [
    "collector={}\n",
    "i=0\n",
    "run=True\n",
    "\n",
    "while run==True:\n",
    "    \n",
    "    if len(category_sub_cb)>0:\n",
    "        base_url = 'https://www.sreality.cz/api/cs/v2/estates?category_main_cb={}&category_sub_cb={}category_type_cb={}&locality_region_id={}&per_page60&page={}'.format(category_main_cb, category_sub_cb_string, category_type_cb, locality_region_id_string, i)\n",
    "    else:\n",
    "        base_url = 'https://www.sreality.cz/api/cs/v2/estates?category_main_cb={}&category_type_cb={}&locality_region_id={}&per_page60&page={}'.format(category_main_cb, category_type_cb, locality_region_id_string, i)\n",
    "    \n",
    "    r = requests.get(base_url)\n",
    "    print(\"starting sleep\")\n",
    "    sleep(randint(1,3))\n",
    "\n",
    "    if r.status_code==404:\n",
    "        break\n",
    "    elif r.status_code==200:\n",
    "        r_dict=r.json()\n",
    "\n",
    "        if len(r_dict[\"_embedded\"][\"estates\"]) == 0:\n",
    "            print(f\"Page {i+1} is blank.\")\n",
    "            break\n",
    "\n",
    "        collector[i]=r_dict\n",
    "        \n",
    "        print(f\"Page {i+1} was scraped.\")\n",
    "\n",
    "        i=i+1\n",
    "        j=0\n",
    "\n",
    "    else:\n",
    "        if  j==3:\n",
    "            print(f\"Code {r.status_code} was returned.\")\n",
    "            break\n",
    "        else:\n",
    "            j=j+1"
   ]
  },
  {
   "cell_type": "code",
   "execution_count": 146,
   "metadata": {},
   "outputs": [],
   "source": [
    "def get_gps_lat_lon(estate_raw: Dict):\n",
    "    gps_ = estate_raw['gps']\n",
    "    return gps_['lat'], gps_['lon']\n",
    "\n",
    "# more robust implementation using regex - https://docs.python.org/3/library/re.html\n",
    "def get_area_from_name(name: str):\n",
    "    \"\"\"(\\d*) matches any decimal digits (repeated after each other\"\"\"\n",
    "    name_ = name.split()\n",
    "    return int(''.join(re.findall('(\\d*)', ''.join(name_))))"
   ]
  },
  {
   "cell_type": "code",
   "execution_count": 147,
   "metadata": {},
   "outputs": [],
   "source": [
    "collector[0];"
   ]
  },
  {
   "cell_type": "code",
   "execution_count": 148,
   "metadata": {},
   "outputs": [],
   "source": [
    "# slow helper functions (use itertools.chains for speedup)\n",
    "def flatten_list(l:List):\n",
    "    return [item for sublist in l for item in sublist]\n",
    "\n",
    "def get_distinct_nearby_objects(estates_individual_raw: Dict):\n",
    "    lists_of_nearby_objects = [e['labelsAll'][1] for e in estates_individual_raw.values()]\n",
    "    return list(set(flatten_list(lists_of_nearby_objects)))\n",
    "\n",
    "def get_distinct_estate_attributes(estates_individual_raw: Dict):\n",
    "    lists_of_estates_attributes = [e['labelsAll'][0] for e in estates_individual_raw.values()]\n",
    "    return list(set(flatten_list(lists_of_estates_attributes)))"
   ]
  },
  {
   "cell_type": "code",
   "execution_count": 149,
   "metadata": {},
   "outputs": [],
   "source": [
    "def get_company_details(estate_raw: Dict):\n",
    "    try:\n",
    "            company_id = estate_raw[\"_embedded\"][\"company\"][\"id\"]\n",
    "            company_name = estate_raw[\"_embedded\"][\"company\"][\"name\"]\n",
    "    except (KeyError):\n",
    "            company_id = np.nan\n",
    "            company_name = np.nan\n",
    "\n",
    "    return company_id, company_name"
   ]
  },
  {
   "cell_type": "code",
   "execution_count": 150,
   "metadata": {},
   "outputs": [],
   "source": [
    "raw_attributes_to_collect = ['locality', 'price', 'name', 'gps','hash_id','labelsAll','exclusively_at_rk']\n",
    "\n",
    "estates_individual_raw = {}\n",
    "estates_individual = {}\n",
    "\n",
    "for page, r in collector.items():\n",
    "    for estate in r['_embedded']['estates']: \n",
    "\n",
    "        estate_raw = {k:v for k,v in estate.items() if k in raw_attributes_to_collect}\n",
    "\n",
    "        estate_relevant = pd.Series(dtype=\"object\")\n",
    "\n",
    "        estate_relevant['price'] = int(estate['price'])\n",
    "        estate_relevant['price_czk'] = int(estate['price_czk'][\"value_raw\"])\n",
    "        estate_relevant['price_czk_unit'] = estate['price_czk'][\"unit\"]\n",
    "        estate_relevant['price_czk_name'] = estate['price_czk'][\"name\"]\n",
    "        estate_relevant['area'] = get_area_from_name(estate['name'])\n",
    "\n",
    "        lat, lon = get_gps_lat_lon(estate)\n",
    "        estate_relevant.loc['lat'] = lat\n",
    "        estate_relevant.loc['lon'] = lon\n",
    "        estate_relevant['locality'] = estate['locality']\n",
    "        estate_relevant['type'] = estate['type']\n",
    "        estate_relevant['category'] = estate['category']\n",
    "        estate_relevant['is_auction'] = estate['is_auction']\n",
    "        estate_relevant['exclusively_at_rk'] = estate['exclusively_at_rk']\n",
    "\n",
    "        estate_relevant['category_main_cb'] = estate[\"seo\"][\"category_main_cb\"]\n",
    "        estate_relevant['category_sub_cb'] = estate[\"seo\"][\"category_sub_cb\"]\n",
    "        estate_relevant['category_type_cb'] = estate[\"seo\"][\"category_type_cb\"]\n",
    "\n",
    "        company_id, company_name = get_company_details(estate)\n",
    "        estate_relevant['company_id'] = company_id\n",
    "        estate_relevant['company_name'] = company_name\n",
    "        \n",
    "        estates_individual_raw[estate['hash_id']] = estate_raw\n",
    "        estates_individual[estate['hash_id']] = estate_relevant"
   ]
  },
  {
   "cell_type": "code",
   "execution_count": 151,
   "metadata": {},
   "outputs": [
    {
     "data": {
      "text/plain": [
       "{'labelsReleased': [[], []],\n",
       " 'has_panorama': 0,\n",
       " 'labels': [],\n",
       " 'is_auction': False,\n",
       " 'labelsAll': [[''],\n",
       "  ['playground',\n",
       "   'vet',\n",
       "   'tavern',\n",
       "   'small_shop',\n",
       "   'candy_shop',\n",
       "   'movies',\n",
       "   'shop',\n",
       "   'atm',\n",
       "   'sports',\n",
       "   'school',\n",
       "   'post_office',\n",
       "   'bus_public_transport',\n",
       "   'drugstore',\n",
       "   'train',\n",
       "   'restaurant',\n",
       "   'kindergarten']],\n",
       " 'seo': {'category_main_cb': 3,\n",
       "  'category_sub_cb': 20,\n",
       "  'category_type_cb': 1,\n",
       "  'locality': 'pec--'},\n",
       " 'exclusively_at_rk': 0,\n",
       " 'category': 3,\n",
       " 'has_floor_plan': 0,\n",
       " '_embedded': {'favourite': {'is_favourite': False,\n",
       "   '_links': {'self': {'profile': '/favourite/doc',\n",
       "     'href': '/cs/v2/favourite/2561614684',\n",
       "     'title': 'Oblibene inzeraty'}}},\n",
       "  'note': {'note': '',\n",
       "   '_links': {'self': {'profile': '/note/doc',\n",
       "     'href': '/cs/v2/note/2561614684',\n",
       "     'title': 'Poznamky inzeratu'}},\n",
       "   'has_note': False}},\n",
       " 'paid_logo': 0,\n",
       " 'locality': 'Peč, okres Jindřichův Hradec',\n",
       " 'has_video': False,\n",
       " 'advert_images_count': 8,\n",
       " 'new': False,\n",
       " 'auctionPrice': 0.0,\n",
       " 'type': 1,\n",
       " 'hash_id': 2561614684,\n",
       " 'attractive_offer': 0,\n",
       " 'price': 307000,\n",
       " 'price_czk': {'alt': {'value_raw': 44.96, 'unit': 'za m²'},\n",
       "  'value_raw': 307000,\n",
       "  'unit': '',\n",
       "  'name': 'Celková cena'},\n",
       " '_links': {'dynamicDown': [{'href': 'https://d18-a.sdn.cz/d_18/c_img_QO_KZ/Bmx0kR.jpeg?fl=res,{width},{height},3|shr,,20|jpg,90'}],\n",
       "  'dynamicUp': [{'href': 'https://d18-a.sdn.cz/d_18/c_img_QO_KZ/Bmx0kR.jpeg?fl=res,{width},{height},3|wrm,/watermark/sreality.png,10|shr,,20|jpg,90'}],\n",
       "  'iterator': {'href': '/cs/v2/estate-iterator/1415?category_main_cb=3&suggested_regionId=-1&locality_region_id=1&suggested_districtId=-1&category_type_cb=1'},\n",
       "  'self': {'href': '/cs/v2/estates/2561614684'},\n",
       "  'images': [{'href': 'https://d18-a.sdn.cz/d_18/c_img_QO_KZ/Bmx0kR.jpeg?fl=res,400,300,3|shr,,20|jpg,90'},\n",
       "   {'href': 'https://d18-a.sdn.cz/d_18/c_img_QM_KJ/l7E0ss.jpeg?fl=res,400,300,3|shr,,20|jpg,90'},\n",
       "   {'href': 'https://d18-a.sdn.cz/d_18/c_img_QL_Jn/i8z0oL.jpeg?fl=res,400,300,3|shr,,20|jpg,90'},\n",
       "   {'href': 'https://d18-a.sdn.cz/d_18/c_img_QK_JR/pV80ss.jpeg?fl=res,400,300,3|shr,,20|jpg,90'},\n",
       "   {'href': 'https://d18-a.sdn.cz/d_18/c_img_QO_KZ/fIJ0kS.jpeg?fl=res,400,300,3|shr,,20|jpg,90'},\n",
       "   {'href': 'https://d18-a.sdn.cz/d_18/c_img_QK_JR/iL00st.jpeg?fl=res,400,300,3|shr,,20|jpg,90'}],\n",
       "  'image_middle2': [{'href': 'https://d18-a.sdn.cz/d_18/c_img_QO_KZ/Bmx0kR.jpeg?fl=res,400,300,3|shr,,20|jpg,90'}]},\n",
       " 'rus': False,\n",
       " 'name': 'Prodej  pole 5\\xa0716\\xa0m²',\n",
       " 'region_tip': 0,\n",
       " 'gps': {'lat': 49.04588367266464, 'lon': 15.404317327335365},\n",
       " 'has_matterport_url': False}"
      ]
     },
     "execution_count": 151,
     "metadata": {},
     "output_type": "execute_result"
    }
   ],
   "source": [
    "estate"
   ]
  },
  {
   "cell_type": "code",
   "execution_count": 152,
   "metadata": {},
   "outputs": [],
   "source": [
    "get_distinct_nearby_objects(estates_individual_raw);\n",
    "get_distinct_estate_attributes(estates_individual_raw);"
   ]
  },
  {
   "cell_type": "code",
   "execution_count": 153,
   "metadata": {},
   "outputs": [],
   "source": [
    "estates_individual;"
   ]
  },
  {
   "cell_type": "code",
   "execution_count": 154,
   "metadata": {},
   "outputs": [],
   "source": [
    "df = pd.concat(estates_individual).unstack()"
   ]
  },
  {
   "cell_type": "code",
   "execution_count": 155,
   "metadata": {},
   "outputs": [
    {
     "data": {
      "text/html": [
       "<div>\n",
       "<style scoped>\n",
       "    .dataframe tbody tr th:only-of-type {\n",
       "        vertical-align: middle;\n",
       "    }\n",
       "\n",
       "    .dataframe tbody tr th {\n",
       "        vertical-align: top;\n",
       "    }\n",
       "\n",
       "    .dataframe thead th {\n",
       "        text-align: right;\n",
       "    }\n",
       "</style>\n",
       "<table border=\"1\" class=\"dataframe\">\n",
       "  <thead>\n",
       "    <tr style=\"text-align: right;\">\n",
       "      <th></th>\n",
       "      <th>hash_id</th>\n",
       "      <th>price</th>\n",
       "      <th>price_czk</th>\n",
       "      <th>price_czk_unit</th>\n",
       "      <th>price_czk_name</th>\n",
       "      <th>area</th>\n",
       "      <th>lat</th>\n",
       "      <th>lon</th>\n",
       "      <th>locality</th>\n",
       "      <th>type</th>\n",
       "      <th>category</th>\n",
       "      <th>is_auction</th>\n",
       "      <th>exclusively_at_rk</th>\n",
       "      <th>category_main_cb</th>\n",
       "      <th>category_sub_cb</th>\n",
       "      <th>category_type_cb</th>\n",
       "      <th>company_id</th>\n",
       "      <th>company_name</th>\n",
       "    </tr>\n",
       "  </thead>\n",
       "  <tbody>\n",
       "    <tr>\n",
       "      <th>0</th>\n",
       "      <td>4122211404</td>\n",
       "      <td>704000</td>\n",
       "      <td>704000</td>\n",
       "      <td></td>\n",
       "      <td>Celková cena</td>\n",
       "      <td>14924</td>\n",
       "      <td>48.884724</td>\n",
       "      <td>14.87873</td>\n",
       "      <td>Suchdol nad Lužnicí, okres Jindřichův Hradec</td>\n",
       "      <td>1</td>\n",
       "      <td>3</td>\n",
       "      <td>False</td>\n",
       "      <td>0</td>\n",
       "      <td>3</td>\n",
       "      <td>20</td>\n",
       "      <td>1</td>\n",
       "      <td>44722</td>\n",
       "      <td>Správa TOP realit s.r.o.</td>\n",
       "    </tr>\n",
       "    <tr>\n",
       "      <th>1</th>\n",
       "      <td>1029104716</td>\n",
       "      <td>4706000</td>\n",
       "      <td>4706000</td>\n",
       "      <td></td>\n",
       "      <td>Celková cena</td>\n",
       "      <td>3559</td>\n",
       "      <td>49.204205</td>\n",
       "      <td>14.45041</td>\n",
       "      <td>Týn nad Vltavou, okres České Budějovice</td>\n",
       "      <td>1</td>\n",
       "      <td>3</td>\n",
       "      <td>False</td>\n",
       "      <td>1</td>\n",
       "      <td>3</td>\n",
       "      <td>19</td>\n",
       "      <td>1</td>\n",
       "      <td>3455</td>\n",
       "      <td>REALITY HORŇÁK</td>\n",
       "    </tr>\n",
       "    <tr>\n",
       "      <th>2</th>\n",
       "      <td>1148139084</td>\n",
       "      <td>160000</td>\n",
       "      <td>160000</td>\n",
       "      <td></td>\n",
       "      <td>Celková cena</td>\n",
       "      <td>4195</td>\n",
       "      <td>49.06905</td>\n",
       "      <td>14.834106</td>\n",
       "      <td>Novosedly nad Nežárkou, okres Jindřichův Hradec</td>\n",
       "      <td>1</td>\n",
       "      <td>3</td>\n",
       "      <td>False</td>\n",
       "      <td>0</td>\n",
       "      <td>3</td>\n",
       "      <td>20</td>\n",
       "      <td>1</td>\n",
       "      <td>33825</td>\n",
       "      <td>MojePole.cz</td>\n",
       "    </tr>\n",
       "    <tr>\n",
       "      <th>3</th>\n",
       "      <td>779543628</td>\n",
       "      <td>49000</td>\n",
       "      <td>49000</td>\n",
       "      <td></td>\n",
       "      <td>Celková cena</td>\n",
       "      <td>14919</td>\n",
       "      <td>49.268273</td>\n",
       "      <td>14.747966</td>\n",
       "      <td>Sedlečko u Soběslavě, okres Tábor</td>\n",
       "      <td>4</td>\n",
       "      <td>3</td>\n",
       "      <td>False</td>\n",
       "      <td>0</td>\n",
       "      <td>3</td>\n",
       "      <td>20</td>\n",
       "      <td>4</td>\n",
       "      <td>NaN</td>\n",
       "      <td>NaN</td>\n",
       "    </tr>\n",
       "    <tr>\n",
       "      <th>4</th>\n",
       "      <td>259449932</td>\n",
       "      <td>187000</td>\n",
       "      <td>187000</td>\n",
       "      <td></td>\n",
       "      <td>Celková cena</td>\n",
       "      <td>142614</td>\n",
       "      <td>49.270734</td>\n",
       "      <td>14.754804</td>\n",
       "      <td>Sedlečko u Soběslavě, okres Tábor</td>\n",
       "      <td>4</td>\n",
       "      <td>3</td>\n",
       "      <td>False</td>\n",
       "      <td>0</td>\n",
       "      <td>3</td>\n",
       "      <td>18</td>\n",
       "      <td>4</td>\n",
       "      <td>NaN</td>\n",
       "      <td>NaN</td>\n",
       "    </tr>\n",
       "  </tbody>\n",
       "</table>\n",
       "</div>"
      ],
      "text/plain": [
       "      hash_id    price price_czk price_czk_unit price_czk_name    area  \\\n",
       "0  4122211404   704000    704000                  Celková cena   14924   \n",
       "1  1029104716  4706000   4706000                  Celková cena    3559   \n",
       "2  1148139084   160000    160000                  Celková cena    4195   \n",
       "3   779543628    49000     49000                  Celková cena   14919   \n",
       "4   259449932   187000    187000                  Celková cena  142614   \n",
       "\n",
       "         lat        lon                                         locality type  \\\n",
       "0  48.884724   14.87873     Suchdol nad Lužnicí, okres Jindřichův Hradec    1   \n",
       "1  49.204205   14.45041          Týn nad Vltavou, okres České Budějovice    1   \n",
       "2   49.06905  14.834106  Novosedly nad Nežárkou, okres Jindřichův Hradec    1   \n",
       "3  49.268273  14.747966                Sedlečko u Soběslavě, okres Tábor    4   \n",
       "4  49.270734  14.754804                Sedlečko u Soběslavě, okres Tábor    4   \n",
       "\n",
       "  category is_auction exclusively_at_rk category_main_cb category_sub_cb  \\\n",
       "0        3      False                 0                3              20   \n",
       "1        3      False                 1                3              19   \n",
       "2        3      False                 0                3              20   \n",
       "3        3      False                 0                3              20   \n",
       "4        3      False                 0                3              18   \n",
       "\n",
       "  category_type_cb company_id              company_name  \n",
       "0                1      44722  Správa TOP realit s.r.o.  \n",
       "1                1       3455            REALITY HORŇÁK  \n",
       "2                1      33825               MojePole.cz  \n",
       "3                4        NaN                       NaN  \n",
       "4                4        NaN                       NaN  "
      ]
     },
     "execution_count": 155,
     "metadata": {},
     "output_type": "execute_result"
    }
   ],
   "source": [
    "df.reset_index(inplace=True)\n",
    "df = df.rename(columns = {'index':'hash_id'})\n",
    "df.head()"
   ]
  },
  {
   "cell_type": "code",
   "execution_count": 156,
   "metadata": {},
   "outputs": [
    {
     "data": {
      "text/plain": [
       "(1407, 18)"
      ]
     },
     "execution_count": 156,
     "metadata": {},
     "output_type": "execute_result"
    }
   ],
   "source": [
    "df.shape"
   ]
  },
  {
   "cell_type": "markdown",
   "metadata": {},
   "source": [
    "### Saving data"
   ]
  },
  {
   "cell_type": "code",
   "execution_count": 157,
   "metadata": {},
   "outputs": [],
   "source": [
    "import os"
   ]
  },
  {
   "cell_type": "code",
   "execution_count": 158,
   "metadata": {},
   "outputs": [],
   "source": [
    "df.to_parquet(exp_file_path+\"/\"+exp_file_name) "
   ]
  },
  {
   "cell_type": "markdown",
   "metadata": {},
   "source": [
    "### Visualisation"
   ]
  },
  {
   "cell_type": "code",
   "execution_count": 159,
   "metadata": {},
   "outputs": [
    {
     "data": {
      "text/plain": [
       "<matplotlib.collections.PathCollection at 0x7fd551dc6280>"
      ]
     },
     "execution_count": 159,
     "metadata": {},
     "output_type": "execute_result"
    },
    {
     "data": {
      "image/png": "[encoded data removed]",
      "text/plain": [
       "<Figure size 640x480 with 1 Axes>"
      ]
     },
     "metadata": {},
     "output_type": "display_data"
    }
   ],
   "source": [
    "import matplotlib.pyplot as plt \n",
    "df_filtered=df.loc[df['area'] < 100000] \n",
    "plt.scatter(df_filtered['price'],df_filtered['area'])"
   ]
  },
  {
   "cell_type": "markdown",
   "metadata": {},
   "source": []
  }
 ],
 "metadata": {
  "kernelspec": {
   "display_name": "Python 3.9.13 ('base')",
   "language": "python",
   "name": "python3"
  },
  "language_info": {
   "codemirror_mode": {
    "name": "ipython",
    "version": 3
   },
   "file_extension": ".py",
   "mimetype": "text/x-python",
   "name": "python",
   "nbconvert_exporter": "python",
   "pygments_lexer": "ipython3",
   "version": "3.9.13"
  },
  "orig_nbformat": 4,
  "vscode": {
   "interpreter": {
    "hash": "a02a01f4637964553a3d9a76be7cbdd74d3a9321504b5f055e54f87e7bbe80de"
   }
  }
 },
 "nbformat": 4,
 "nbformat_minor": 2
}
