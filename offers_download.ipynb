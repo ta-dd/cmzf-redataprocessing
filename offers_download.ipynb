{
 "cells": [
  {
   "cell_type": "code",
   "execution_count": 118,
   "metadata": {},
   "outputs": [],
   "source": [
    "import pandas as pd\n",
    "import numpy as np\n",
    "import os\n",
    "\n",
    "import requests\n",
    "\n",
    "from datetime import date\n",
    "from time import sleep \n",
    "\n",
    "import tqdm\n",
    "import re \n",
    "\n",
    "from typing import Dict, List \n",
    "\n",
    "from random import randint"
   ]
  },
  {
   "cell_type": "code",
   "execution_count": 119,
   "metadata": {},
   "outputs": [],
   "source": [
    "today=str(date.today())"
   ]
  },
  {
   "cell_type": "markdown",
   "metadata": {},
   "source": [
    "# Add parameters"
   ]
  },
  {
   "cell_type": "code",
   "execution_count": 120,
   "metadata": {},
   "outputs": [
    {
     "name": "stdout",
     "output_type": "stream",
     "text": [
      "/Users/vojtechkania/Library/CloudStorage/OneDrive-UniverzitaKarlova/Data Processing in Python/re_data_processing/CB_commercial_rent_2023-01-03.gzip\n"
     ]
    }
   ],
   "source": [
    "exp_file_name=(\"CB_landplots_sale_\"+today+\".gzip\")\n",
    "exp_file_path=str(os.path.dirname(os.path.realpath(\"__file__\")))\n",
    "print(exp_file_path+\"/\"+exp_file_name)"
   ]
  },
  {
   "cell_type": "code",
   "execution_count": 121,
   "metadata": {},
   "outputs": [],
   "source": [
    "category_main_cb = 3 # 1=byty, 2=domy, 3=pozemky, 4=komerční, 5=ostatní\n",
    "category_type_cb = 1 # 1=prodej, 2=nájem, 3=dražba\n",
    "category_sub_cb = [] # 34=garáže, 52=garážové stání\n",
    "locality_region_id = [1] #10=Praha, 11=Středočeský kraj, 5: Liberecký kraj, 1: Českobudějovický kraj"
   ]
  },
  {
   "cell_type": "markdown",
   "metadata": {},
   "source": [
    "# Code "
   ]
  },
  {
   "cell_type": "code",
   "execution_count": 122,
   "metadata": {},
   "outputs": [
    {
     "name": "stdout",
     "output_type": "stream",
     "text": [
      "\n",
      "1\n"
     ]
    }
   ],
   "source": [
    "category_sub_cb_string = '%7C'.join(str(v) for v in category_sub_cb)\n",
    "print(category_sub_cb_string)\n",
    "\n",
    "locality_region_id_string = '%7C'.join(str(v) for v in locality_region_id)\n",
    "print(locality_region_id_string)"
   ]
  },
  {
   "cell_type": "code",
   "execution_count": 123,
   "metadata": {},
   "outputs": [
    {
     "name": "stdout",
     "output_type": "stream",
     "text": [
      "  category_main_cb\n",
      "1             byty\n",
      "2             domy\n",
      "3          pozemky\n",
      "4         komerční\n",
      "5          ostatní\n",
      "   category_sub_cb\n",
      "2             1+kk\n",
      "3              1+1\n",
      "4             2+kk\n",
      "5              2+2\n",
      "6             2+kk\n",
      "34           garáž\n",
      "52  garážové stání\n",
      "  category_type_cb\n",
      "1           prodej\n",
      "2            nájem\n",
      "3           dražba\n",
      "   locality_region_id\n",
      "10              Praha\n",
      "11   Středočeský kraj\n",
      "5      Liberecký kraj\n"
     ]
    }
   ],
   "source": [
    "#https://1.im.cz/seznam/blog/articles/import.pdf\n",
    "category_main_cb_dict={1:\"byty\", 2:\"domy\", 3:\"pozemky\", 4:\"komerční\", 5:\"ostatní\"}\n",
    "category_main_cb_dict=pd.DataFrame.from_dict(category_main_cb_dict, orient=\"index\", columns=[\"category_main_cb\"])\n",
    "print(category_main_cb_dict)\n",
    "\n",
    "category_sub_cb_dict={\n",
    "    2:\"1+kk\", \n",
    "    3:\"1+1\", \n",
    "    4:\"2+kk\", \n",
    "    5:\"2+2\", \n",
    "    6:\"2+kk\",\n",
    "    34:\"garáž\",\n",
    "    52:\"garážové stání\"}\n",
    "category_sub_cb_dict=pd.DataFrame.from_dict(category_sub_cb_dict, orient=\"index\", columns=[\"category_sub_cb\"])\n",
    "print(category_sub_cb_dict)\n",
    "\n",
    "category_type_cb_dict={1:\"prodej\", 2:\"nájem\", 3:\"dražba\"}\n",
    "category_type_cb_dict=pd.DataFrame.from_dict(category_type_cb_dict, orient=\"index\", columns=[\"category_type_cb\"])\n",
    "print(category_type_cb_dict)\n",
    "\n",
    "locality_region_id_dict={10:\"Praha\", 11:\"Středočeský kraj\", 5:\"Liberecký kraj\"}\n",
    "locality_region_id_dict=pd.DataFrame.from_dict(locality_region_id_dict, orient=\"index\", columns=[\"locality_region_id\"])\n",
    "print(locality_region_id_dict)"
   ]
  },
  {
   "cell_type": "code",
   "execution_count": 124,
   "metadata": {},
   "outputs": [
    {
     "name": "stdout",
     "output_type": "stream",
     "text": [
      "starting sleep\n",
      "Page 1 was scraped.\n",
      "starting sleep\n",
      "Page 2 was scraped.\n",
      "starting sleep\n",
      "Page 3 was scraped.\n",
      "starting sleep\n",
      "Page 4 was scraped.\n",
      "starting sleep\n",
      "Page 5 was scraped.\n",
      "starting sleep\n",
      "Page 6 was scraped.\n",
      "starting sleep\n",
      "Page 7 was scraped.\n",
      "starting sleep\n",
      "Page 8 was scraped.\n",
      "starting sleep\n",
      "Page 9 was scraped.\n",
      "starting sleep\n",
      "Page 10 was scraped.\n",
      "starting sleep\n",
      "Page 11 was scraped.\n",
      "starting sleep\n",
      "Page 12 was scraped.\n",
      "starting sleep\n",
      "Page 13 was scraped.\n",
      "starting sleep\n",
      "Page 14 was scraped.\n",
      "starting sleep\n",
      "Page 15 was scraped.\n",
      "starting sleep\n",
      "Page 16 was scraped.\n",
      "starting sleep\n",
      "Page 17 was scraped.\n",
      "starting sleep\n",
      "Page 18 was scraped.\n",
      "starting sleep\n",
      "Page 19 was scraped.\n",
      "starting sleep\n",
      "Page 20 was scraped.\n",
      "starting sleep\n",
      "Page 21 was scraped.\n",
      "starting sleep\n",
      "Page 22 was scraped.\n",
      "starting sleep\n",
      "Page 23 is blank.\n"
     ]
    }
   ],
   "source": [
    "collector={}\n",
    "i=0\n",
    "run=True\n",
    "\n",
    "while run==True:\n",
    "    \n",
    "    if len(category_sub_cb)>0:\n",
    "        base_url = 'https://www.sreality.cz/api/cs/v2/estates?category_main_cb={}&category_sub_cb={}category_type_cb={}&locality_region_id={}&per_page60&page={}'.format(category_main_cb, category_sub_cb_string, category_type_cb, locality_region_id_string, i)\n",
    "    else:\n",
    "        base_url = 'https://www.sreality.cz/api/cs/v2/estates?category_main_cb={}&category_type_cb={}&locality_region_id={}&per_page60&page={}'.format(category_main_cb, category_type_cb, locality_region_id_string, i)\n",
    "    \n",
    "    r = requests.get(base_url)\n",
    "    print(\"starting sleep\")\n",
    "    sleep(randint(1,3))\n",
    "\n",
    "    if r.status_code==404:\n",
    "        break\n",
    "    elif r.status_code==200:\n",
    "        r_dict=r.json()\n",
    "\n",
    "        if len(r_dict[\"_embedded\"][\"estates\"]) == 0:\n",
    "            print(f\"Page {i+1} is blank.\")\n",
    "            break\n",
    "\n",
    "        collector[i]=r_dict\n",
    "        \n",
    "        print(f\"Page {i+1} was scraped.\")\n",
    "\n",
    "        i=i+1\n",
    "        j=0\n",
    "\n",
    "    else:\n",
    "        if  j==3:\n",
    "            print(f\"Code {r.status_code} was returned.\")\n",
    "            break\n",
    "        else:\n",
    "            j=j+1"
   ]
  },
  {
   "cell_type": "code",
   "execution_count": 125,
   "metadata": {},
   "outputs": [],
   "source": [
    "def get_gps_lat_lon(estate_raw: Dict):\n",
    "    gps_ = estate_raw['gps']\n",
    "    return gps_['lat'], gps_['lon']\n",
    "\n",
    "# more robust implementation using regex - https://docs.python.org/3/library/re.html\n",
    "def get_area_from_name(name: str):\n",
    "    \"\"\"(\\d*) matches any decimal digits (repeated after each other\"\"\"\n",
    "    name_ = name.split()\n",
    "    return int(''.join(re.findall('(\\d*)', ''.join(name_))))"
   ]
  },
  {
   "cell_type": "code",
   "execution_count": 126,
   "metadata": {},
   "outputs": [],
   "source": [
    "collector[0];"
   ]
  },
  {
   "cell_type": "code",
   "execution_count": 127,
   "metadata": {},
   "outputs": [],
   "source": [
    "# slow helper functions (use itertools.chains for speedup)\n",
    "def flatten_list(l:List):\n",
    "    return [item for sublist in l for item in sublist]\n",
    "\n",
    "def get_distinct_nearby_objects(estates_individual_raw: Dict):\n",
    "    lists_of_nearby_objects = [e['labelsAll'][1] for e in estates_individual_raw.values()]\n",
    "    return list(set(flatten_list(lists_of_nearby_objects)))\n",
    "\n",
    "def get_distinct_estate_attributes(estates_individual_raw: Dict):\n",
    "    lists_of_estates_attributes = [e['labelsAll'][0] for e in estates_individual_raw.values()]\n",
    "    return list(set(flatten_list(lists_of_estates_attributes)))"
   ]
  },
  {
   "cell_type": "code",
   "execution_count": 128,
   "metadata": {},
   "outputs": [],
   "source": [
    "def get_company_details(estate_raw: Dict):\n",
    "    try:\n",
    "            company_id = estate_raw[\"_embedded\"][\"company\"][\"id\"]\n",
    "            company_name = estate_raw[\"_embedded\"][\"company\"][\"name\"]\n",
    "    except (KeyError):\n",
    "            company_id = np.nan\n",
    "            company_name = np.nan\n",
    "\n",
    "    return company_id, company_name"
   ]
  },
  {
   "cell_type": "code",
   "execution_count": 129,
   "metadata": {},
   "outputs": [],
   "source": [
    "raw_attributes_to_collect = ['locality', 'price', 'name', 'gps','hash_id','labelsAll','exclusively_at_rk']\n",
    "\n",
    "estates_individual_raw = {}\n",
    "estates_individual = {}\n",
    "\n",
    "for page, r in collector.items():\n",
    "    for estate in r['_embedded']['estates']: \n",
    "\n",
    "        estate_raw = {k:v for k,v in estate.items() if k in raw_attributes_to_collect}\n",
    "\n",
    "        estate_relevant = pd.Series(dtype=\"object\")\n",
    "\n",
    "        estate_relevant['price'] = int(estate['price'])\n",
    "        estate_relevant['price_czk'] = int(estate['price_czk'][\"value_raw\"])\n",
    "        estate_relevant['price_czk_unit'] = estate['price_czk'][\"unit\"]\n",
    "        estate_relevant['price_czk_name'] = estate['price_czk'][\"name\"]\n",
    "        estate_relevant['area'] = get_area_from_name(estate['name'])\n",
    "\n",
    "        lat, lon = get_gps_lat_lon(estate)\n",
    "        estate_relevant.loc['lat'] = lat\n",
    "        estate_relevant.loc['lon'] = lon\n",
    "        estate_relevant['locality'] = estate['locality']\n",
    "        estate_relevant['type'] = estate['type']\n",
    "        estate_relevant['category'] = estate['category']\n",
    "        estate_relevant['is_auction'] = estate['is_auction']\n",
    "        estate_relevant['exclusively_at_rk'] = estate['exclusively_at_rk']\n",
    "\n",
    "        estate_relevant['category_main_cb'] = estate[\"seo\"][\"category_main_cb\"]\n",
    "        estate_relevant['category_sub_cb'] = estate[\"seo\"][\"category_sub_cb\"]\n",
    "        estate_relevant['category_type_cb'] = estate[\"seo\"][\"category_type_cb\"]\n",
    "\n",
    "        company_id, company_name = get_company_details(estate)\n",
    "        estate_relevant['company_id'] = company_id\n",
    "        estate_relevant['company_name'] = company_name\n",
    "        \n",
    "        estates_individual_raw[estate['hash_id']] = estate_raw\n",
    "        estates_individual[estate['hash_id']] = estate_relevant"
   ]
  },
  {
   "cell_type": "code",
   "execution_count": 130,
   "metadata": {},
   "outputs": [
    {
     "data": {
      "text/plain": [
       "{'labelsReleased': [[], []],\n",
       " 'has_panorama': 0,\n",
       " 'labels': [],\n",
       " 'is_auction': False,\n",
       " 'labelsAll': [[''],\n",
       "  ['vet',\n",
       "   'playground',\n",
       "   'small_shop',\n",
       "   'candy_shop',\n",
       "   'movies',\n",
       "   'tavern',\n",
       "   'kindergarten',\n",
       "   'post_office',\n",
       "   'restaurant',\n",
       "   'school',\n",
       "   'drugstore',\n",
       "   'atm',\n",
       "   'train',\n",
       "   'sports',\n",
       "   'shop',\n",
       "   'bus_public_transport']],\n",
       " 'seo': {'category_main_cb': 4,\n",
       "  'category_sub_cb': 25,\n",
       "  'category_type_cb': 2,\n",
       "  'locality': 'dacice-dacice-i-gothova'},\n",
       " 'exclusively_at_rk': 1,\n",
       " 'category': 4,\n",
       " 'has_floor_plan': 0,\n",
       " '_embedded': {'favourite': {'is_favourite': False,\n",
       "   '_links': {'self': {'profile': '/favourite/doc',\n",
       "     'href': '/cs/v2/favourite/4225814876',\n",
       "     'title': 'Oblibene inzeraty'}}},\n",
       "  'note': {'note': '',\n",
       "   '_links': {'self': {'profile': '/note/doc',\n",
       "     'href': '/cs/v2/note/4225814876',\n",
       "     'title': 'Poznamky inzeratu'}},\n",
       "   'has_note': False}},\n",
       " 'paid_logo': 0,\n",
       " 'locality': 'Dačice - Dačice I, okres Jindřichův Hradec',\n",
       " 'has_video': False,\n",
       " 'advert_images_count': 12,\n",
       " 'new': False,\n",
       " 'auctionPrice': 0.0,\n",
       " 'type': 2,\n",
       " 'hash_id': 4225814876,\n",
       " 'attractive_offer': 0,\n",
       " 'price': 6000,\n",
       " 'price_czk': {'alt': {'value_raw': 75.95, 'unit': 'za m²/měsíc'},\n",
       "  'value_raw': 6000,\n",
       "  'unit': 'za měsíc',\n",
       "  'name': 'Celková cena'},\n",
       " '_links': {'dynamicDown': [{'href': 'https://d18-a.sdn.cz/d_18/c_img_QL_Jn/pHxtKg.jpeg?fl=res,{width},{height},3|shr,,20|jpg,90'}],\n",
       "  'dynamicUp': [{'href': 'https://d18-a.sdn.cz/d_18/c_img_QL_Jn/pHxtKg.jpeg?fl=res,{width},{height},3|wrm,/watermark/sreality.png,10|shr,,20|jpg,90'}],\n",
       "  'iterator': {'href': '/cs/v2/estate-iterator/417?category_main_cb=4&suggested_regionId=-1&locality_region_id=1&suggested_districtId=-1&category_type_cb=2'},\n",
       "  'self': {'href': '/cs/v2/estates/4225814876'},\n",
       "  'images': [{'href': 'https://d18-a.sdn.cz/d_18/c_img_QL_Jn/pHxtKg.jpeg?fl=res,400,300,3|shr,,20|jpg,90'},\n",
       "   {'href': 'https://d18-a.sdn.cz/d_18/c_img_QL_Jn/imDtKh.jpeg?fl=res,400,300,3|shr,,20|jpg,90'},\n",
       "   {'href': 'https://d18-a.sdn.cz/d_18/c_img_gY_l/7JDTht.jpeg?fl=res,400,300,3|shr,,20|jpg,90'},\n",
       "   {'href': 'https://d18-a.sdn.cz/d_18/c_img_gT_m/uvrT8J.jpeg?fl=res,400,300,3|shr,,20|jpg,90'},\n",
       "   {'href': 'https://d18-a.sdn.cz/d_18/c_img_QM_KJ/OcxtLa.jpeg?fl=res,400,300,3|shr,,20|jpg,90'},\n",
       "   {'href': 'https://d18-a.sdn.cz/d_18/c_img_QO_KZ/q5VtET.jpeg?fl=rot,270,0|res,400,300,3|shr,,20|jpg,90'}],\n",
       "  'image_middle2': [{'href': 'https://d18-a.sdn.cz/d_18/c_img_QL_Jn/pHxtKg.jpeg?fl=res,400,300,3|shr,,20|jpg,90'}]},\n",
       " 'rus': False,\n",
       " 'name': 'Pronájem kanceláře 79\\xa0m²',\n",
       " 'region_tip': 0,\n",
       " 'gps': {'lat': 49.07355815848521, 'lon': 15.44055184151479},\n",
       " 'has_matterport_url': False}"
      ]
     },
     "execution_count": 130,
     "metadata": {},
     "output_type": "execute_result"
    }
   ],
   "source": [
    "estate"
   ]
  },
  {
   "cell_type": "code",
   "execution_count": 131,
   "metadata": {},
   "outputs": [],
   "source": [
    "get_distinct_nearby_objects(estates_individual_raw);\n",
    "get_distinct_estate_attributes(estates_individual_raw);"
   ]
  },
  {
   "cell_type": "code",
   "execution_count": 132,
   "metadata": {},
   "outputs": [],
   "source": [
    "estates_individual;"
   ]
  },
  {
   "cell_type": "code",
   "execution_count": 133,
   "metadata": {},
   "outputs": [],
   "source": [
    "df = pd.concat(estates_individual).unstack()"
   ]
  },
  {
   "cell_type": "code",
   "execution_count": 134,
   "metadata": {},
   "outputs": [
    {
     "data": {
      "text/html": [
       "<div>\n",
       "<style scoped>\n",
       "    .dataframe tbody tr th:only-of-type {\n",
       "        vertical-align: middle;\n",
       "    }\n",
       "\n",
       "    .dataframe tbody tr th {\n",
       "        vertical-align: top;\n",
       "    }\n",
       "\n",
       "    .dataframe thead th {\n",
       "        text-align: right;\n",
       "    }\n",
       "</style>\n",
       "<table border=\"1\" class=\"dataframe\">\n",
       "  <thead>\n",
       "    <tr style=\"text-align: right;\">\n",
       "      <th></th>\n",
       "      <th>hash_id</th>\n",
       "      <th>price</th>\n",
       "      <th>price_czk</th>\n",
       "      <th>price_czk_unit</th>\n",
       "      <th>price_czk_name</th>\n",
       "      <th>area</th>\n",
       "      <th>lat</th>\n",
       "      <th>lon</th>\n",
       "      <th>locality</th>\n",
       "      <th>type</th>\n",
       "      <th>category</th>\n",
       "      <th>is_auction</th>\n",
       "      <th>exclusively_at_rk</th>\n",
       "      <th>category_main_cb</th>\n",
       "      <th>category_sub_cb</th>\n",
       "      <th>category_type_cb</th>\n",
       "      <th>company_id</th>\n",
       "      <th>company_name</th>\n",
       "    </tr>\n",
       "  </thead>\n",
       "  <tbody>\n",
       "    <tr>\n",
       "      <th>0</th>\n",
       "      <td>2324965196</td>\n",
       "      <td>0</td>\n",
       "      <td>0</td>\n",
       "      <td>za měsíc</td>\n",
       "      <td>Celková cena</td>\n",
       "      <td>4000</td>\n",
       "      <td>48.968543</td>\n",
       "      <td>14.480267</td>\n",
       "      <td>České Budějovice, okres České Budějovice</td>\n",
       "      <td>2</td>\n",
       "      <td>4</td>\n",
       "      <td>False</td>\n",
       "      <td>0</td>\n",
       "      <td>4</td>\n",
       "      <td>26</td>\n",
       "      <td>2</td>\n",
       "      <td>21172</td>\n",
       "      <td>reLOKATIO</td>\n",
       "    </tr>\n",
       "    <tr>\n",
       "      <th>1</th>\n",
       "      <td>1127552844</td>\n",
       "      <td>11000</td>\n",
       "      <td>11000</td>\n",
       "      <td>za měsíc</td>\n",
       "      <td>Celková cena</td>\n",
       "      <td>59</td>\n",
       "      <td>48.972892</td>\n",
       "      <td>14.493072</td>\n",
       "      <td>České Budějovice - České Budějovice 4, okres Č...</td>\n",
       "      <td>2</td>\n",
       "      <td>4</td>\n",
       "      <td>False</td>\n",
       "      <td>1</td>\n",
       "      <td>4</td>\n",
       "      <td>26</td>\n",
       "      <td>2</td>\n",
       "      <td>18968</td>\n",
       "      <td>Finem Group</td>\n",
       "    </tr>\n",
       "    <tr>\n",
       "      <th>2</th>\n",
       "      <td>4127594060</td>\n",
       "      <td>1000</td>\n",
       "      <td>1000</td>\n",
       "      <td>za měsíc</td>\n",
       "      <td>Celková cena</td>\n",
       "      <td>14</td>\n",
       "      <td>48.973895</td>\n",
       "      <td>14.494135</td>\n",
       "      <td>České Budějovice - České Budějovice 4, okres Č...</td>\n",
       "      <td>2</td>\n",
       "      <td>4</td>\n",
       "      <td>False</td>\n",
       "      <td>0</td>\n",
       "      <td>4</td>\n",
       "      <td>25</td>\n",
       "      <td>2</td>\n",
       "      <td>18968</td>\n",
       "      <td>Finem Group</td>\n",
       "    </tr>\n",
       "    <tr>\n",
       "      <th>3</th>\n",
       "      <td>3163022412</td>\n",
       "      <td>1000</td>\n",
       "      <td>1000</td>\n",
       "      <td>za měsíc</td>\n",
       "      <td>Celková cena</td>\n",
       "      <td>10</td>\n",
       "      <td>49.010307</td>\n",
       "      <td>14.630846</td>\n",
       "      <td>Lišov, okres České Budějovice</td>\n",
       "      <td>2</td>\n",
       "      <td>4</td>\n",
       "      <td>False</td>\n",
       "      <td>1</td>\n",
       "      <td>4</td>\n",
       "      <td>25</td>\n",
       "      <td>2</td>\n",
       "      <td>237</td>\n",
       "      <td>REALITY SPEKTRUM CEPÁK s r.o.</td>\n",
       "    </tr>\n",
       "    <tr>\n",
       "      <th>4</th>\n",
       "      <td>1104667724</td>\n",
       "      <td>54000</td>\n",
       "      <td>54000</td>\n",
       "      <td>za měsíc</td>\n",
       "      <td>Celková cena</td>\n",
       "      <td>159</td>\n",
       "      <td>48.988139</td>\n",
       "      <td>14.487834</td>\n",
       "      <td>České Budějovice - České Budějovice 3, okres Č...</td>\n",
       "      <td>2</td>\n",
       "      <td>4</td>\n",
       "      <td>False</td>\n",
       "      <td>0</td>\n",
       "      <td>4</td>\n",
       "      <td>29</td>\n",
       "      <td>2</td>\n",
       "      <td>NaN</td>\n",
       "      <td>NaN</td>\n",
       "    </tr>\n",
       "  </tbody>\n",
       "</table>\n",
       "</div>"
      ],
      "text/plain": [
       "      hash_id  price price_czk price_czk_unit price_czk_name  area        lat  \\\n",
       "0  2324965196      0         0       za měsíc   Celková cena  4000  48.968543   \n",
       "1  1127552844  11000     11000       za měsíc   Celková cena    59  48.972892   \n",
       "2  4127594060   1000      1000       za měsíc   Celková cena    14  48.973895   \n",
       "3  3163022412   1000      1000       za měsíc   Celková cena    10  49.010307   \n",
       "4  1104667724  54000     54000       za měsíc   Celková cena   159  48.988139   \n",
       "\n",
       "         lon                                           locality type category  \\\n",
       "0  14.480267           České Budějovice, okres České Budějovice    2        4   \n",
       "1  14.493072  České Budějovice - České Budějovice 4, okres Č...    2        4   \n",
       "2  14.494135  České Budějovice - České Budějovice 4, okres Č...    2        4   \n",
       "3  14.630846                      Lišov, okres České Budějovice    2        4   \n",
       "4  14.487834  České Budějovice - České Budějovice 3, okres Č...    2        4   \n",
       "\n",
       "  is_auction exclusively_at_rk category_main_cb category_sub_cb  \\\n",
       "0      False                 0                4              26   \n",
       "1      False                 1                4              26   \n",
       "2      False                 0                4              25   \n",
       "3      False                 1                4              25   \n",
       "4      False                 0                4              29   \n",
       "\n",
       "  category_type_cb company_id                   company_name  \n",
       "0                2      21172                      reLOKATIO  \n",
       "1                2      18968                    Finem Group  \n",
       "2                2      18968                    Finem Group  \n",
       "3                2        237  REALITY SPEKTRUM CEPÁK s r.o.  \n",
       "4                2        NaN                            NaN  "
      ]
     },
     "execution_count": 134,
     "metadata": {},
     "output_type": "execute_result"
    }
   ],
   "source": [
    "df.reset_index(inplace=True)\n",
    "df = df.rename(columns = {'index':'hash_id'})\n",
    "df.head()"
   ]
  },
  {
   "cell_type": "code",
   "execution_count": 135,
   "metadata": {},
   "outputs": [
    {
     "data": {
      "text/plain": [
       "(418, 18)"
      ]
     },
     "execution_count": 135,
     "metadata": {},
     "output_type": "execute_result"
    }
   ],
   "source": [
    "df.shape"
   ]
  },
  {
   "cell_type": "markdown",
   "metadata": {},
   "source": [
    "### Saving data"
   ]
  },
  {
   "cell_type": "code",
   "execution_count": 136,
   "metadata": {},
   "outputs": [],
   "source": [
    "import os"
   ]
  },
  {
   "cell_type": "code",
   "execution_count": 137,
   "metadata": {},
   "outputs": [],
   "source": [
    "df.to_parquet(exp_file_path+\"/\"+exp_file_name) "
   ]
  },
  {
   "cell_type": "markdown",
   "metadata": {},
   "source": [
    "### Visualisation"
   ]
  },
  {
   "cell_type": "code",
   "execution_count": 138,
   "metadata": {},
   "outputs": [
    {
     "data": {
      "text/plain": [
       "<matplotlib.collections.PathCollection at 0x7fd5706a7d60>"
      ]
     },
     "execution_count": 138,
     "metadata": {},
     "output_type": "execute_result"
    },
    {
     "data": {
      "image/png": "[encoded data removed]",
      "text/plain": [
       "<Figure size 640x480 with 1 Axes>"
      ]
     },
     "metadata": {},
     "output_type": "display_data"
    }
   ],
   "source": [
    "import matplotlib.pyplot as plt \n",
    "df_filtered=df.loc[df['area'] < 100000] \n",
    "plt.scatter(df_filtered['price'],df_filtered['area'])"
   ]
  },
  {
   "cell_type": "markdown",
   "metadata": {},
   "source": []
  }
 ],
 "metadata": {
  "kernelspec": {
   "display_name": "Python 3.9.13 ('base')",
   "language": "python",
   "name": "python3"
  },
  "language_info": {
   "codemirror_mode": {
    "name": "ipython",
    "version": 3
   },
   "file_extension": ".py",
   "mimetype": "text/x-python",
   "name": "python",
   "nbconvert_exporter": "python",
   "pygments_lexer": "ipython3",
   "version": "3.9.13"
  },
  "orig_nbformat": 4,
  "vscode": {
   "interpreter": {
    "hash": "a02a01f4637964553a3d9a76be7cbdd74d3a9321504b5f055e54f87e7bbe80de"
   }
  }
 },
 "nbformat": 4,
 "nbformat_minor": 2
}
