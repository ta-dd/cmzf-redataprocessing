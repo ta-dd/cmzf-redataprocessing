{
 "cells": [
  {
   "cell_type": "code",
   "execution_count": 138,
   "metadata": {},
   "outputs": [],
   "source": [
    "import pandas as pd\n",
    "import numpy as np\n",
    "import os\n",
    "\n",
    "import requests\n",
    "\n",
    "from datetime import date\n",
    "from time import sleep \n",
    "\n",
    "import tqdm\n",
    "import re \n",
    "\n",
    "from typing import Dict, List \n",
    "\n",
    "from random import randint"
   ]
  },
  {
   "cell_type": "code",
   "execution_count": 139,
   "metadata": {},
   "outputs": [],
   "source": [
    "today=str(date.today())"
   ]
  },
  {
   "cell_type": "markdown",
   "metadata": {},
   "source": [
    "# Add parameters"
   ]
  },
  {
   "cell_type": "code",
   "execution_count": 140,
   "metadata": {},
   "outputs": [
    {
     "name": "stdout",
     "output_type": "stream",
     "text": [
      "/Users/vojtechkania/Library/CloudStorage/OneDrive-UniverzitaKarlova/Data Processing in Python/re_data_processing/df_commercial_rent_2022-12-24.gzip\n"
     ]
    }
   ],
   "source": [
    "exp_file_name=(\"df_commercial_rent_\"+today+\".gzip\")\n",
    "exp_file_path=str(os.path.dirname(os.path.realpath(\"__file__\")))\n",
    "print(exp_file_path+\"/\"+exp_file_name)"
   ]
  },
  {
   "cell_type": "code",
   "execution_count": 141,
   "metadata": {},
   "outputs": [],
   "source": [
    "category_main_cb = 4 # 1=byty, 2=domy, 3=pozemky, 4=komerční, 5=ostatní\n",
    "category_type_cb = 2 # 1=prodej, 2=nájem, 3=dražba\n",
    "category_sub_cb = [] # 34=garáže, 52=garážové stání\n",
    "locality_region_id = [10, 11] #10=Praha, 11=Středočeský kraj, 5: Liberecký kraj"
   ]
  },
  {
   "cell_type": "markdown",
   "metadata": {},
   "source": [
    "# Code "
   ]
  },
  {
   "cell_type": "code",
   "execution_count": 142,
   "metadata": {},
   "outputs": [
    {
     "name": "stdout",
     "output_type": "stream",
     "text": [
      "\n",
      "10%7C11\n"
     ]
    }
   ],
   "source": [
    "category_sub_cb_string = '%7C'.join(str(v) for v in category_sub_cb)\n",
    "print(category_sub_cb_string)\n",
    "\n",
    "locality_region_id_string = '%7C'.join(str(v) for v in locality_region_id)\n",
    "print(locality_region_id_string)"
   ]
  },
  {
   "cell_type": "code",
   "execution_count": 143,
   "metadata": {},
   "outputs": [
    {
     "name": "stdout",
     "output_type": "stream",
     "text": [
      "  category_main_cb\n",
      "1             byty\n",
      "2             domy\n",
      "3          pozemky\n",
      "4         komerční\n",
      "5          ostatní\n",
      "   category_sub_cb\n",
      "2             1+kk\n",
      "3              1+1\n",
      "4             2+kk\n",
      "5              2+2\n",
      "6             2+kk\n",
      "34           garáž\n",
      "52  garážové stání\n",
      "  category_type_cb\n",
      "1           prodej\n",
      "2            nájem\n",
      "3           dražba\n",
      "   locality_region_id\n",
      "10              Praha\n",
      "11   Středočeský kraj\n",
      "5      Liberecký kraj\n"
     ]
    }
   ],
   "source": [
    "#https://1.im.cz/seznam/blog/articles/import.pdf\n",
    "category_main_cb_dict={1:\"byty\", 2:\"domy\", 3:\"pozemky\", 4:\"komerční\", 5:\"ostatní\"}\n",
    "category_main_cb_dict=pd.DataFrame.from_dict(category_main_cb_dict, orient=\"index\", columns=[\"category_main_cb\"])\n",
    "print(category_main_cb_dict)\n",
    "\n",
    "category_sub_cb_dict={\n",
    "    2:\"1+kk\", \n",
    "    3:\"1+1\", \n",
    "    4:\"2+kk\", \n",
    "    5:\"2+2\", \n",
    "    6:\"2+kk\",\n",
    "    34:\"garáž\",\n",
    "    52:\"garážové stání\"}\n",
    "category_sub_cb_dict=pd.DataFrame.from_dict(category_sub_cb_dict, orient=\"index\", columns=[\"category_sub_cb\"])\n",
    "print(category_sub_cb_dict)\n",
    "\n",
    "category_type_cb_dict={1:\"prodej\", 2:\"nájem\", 3:\"dražba\"}\n",
    "category_type_cb_dict=pd.DataFrame.from_dict(category_type_cb_dict, orient=\"index\", columns=[\"category_type_cb\"])\n",
    "print(category_type_cb_dict)\n",
    "\n",
    "locality_region_id_dict={10:\"Praha\", 11:\"Středočeský kraj\", 5:\"Liberecký kraj\"}\n",
    "locality_region_id_dict=pd.DataFrame.from_dict(locality_region_id_dict, orient=\"index\", columns=[\"locality_region_id\"])\n",
    "print(locality_region_id_dict)"
   ]
  },
  {
   "cell_type": "code",
   "execution_count": 144,
   "metadata": {},
   "outputs": [
    {
     "name": "stdout",
     "output_type": "stream",
     "text": [
      "starting sleep\n",
      "Page 1 was scraped.\n",
      "starting sleep\n",
      "Page 2 was scraped.\n",
      "starting sleep\n",
      "Page 3 was scraped.\n",
      "starting sleep\n",
      "Page 4 was scraped.\n",
      "starting sleep\n",
      "Page 5 was scraped.\n",
      "starting sleep\n",
      "Page 6 was scraped.\n",
      "starting sleep\n",
      "Page 7 was scraped.\n",
      "starting sleep\n",
      "Page 8 was scraped.\n",
      "starting sleep\n",
      "Page 9 was scraped.\n",
      "starting sleep\n",
      "Page 10 was scraped.\n",
      "starting sleep\n",
      "Page 11 was scraped.\n",
      "starting sleep\n",
      "Page 12 was scraped.\n",
      "starting sleep\n"
     ]
    }
   ],
   "source": [
    "collector={}\n",
    "i=0\n",
    "run=True\n",
    "\n",
    "while run==True:\n",
    "    \n",
    "    if len(category_sub_cb)>0:\n",
    "        base_url = 'https://www.sreality.cz/api/cs/v2/estates?category_main_cb={}&category_sub_cb={}category_type_cb={}&locality_region_id={}&per_page60&page={}'.format(category_main_cb, category_sub_cb_string, category_type_cb, locality_region_id_string, i)\n",
    "    else:\n",
    "        base_url = 'https://www.sreality.cz/api/cs/v2/estates?category_main_cb={}&category_type_cb={}&locality_region_id={}&per_page60&page={}'.format(category_main_cb, category_type_cb, locality_region_id_string, i)\n",
    "    \n",
    "    r = requests.get(base_url)\n",
    "    print(\"starting sleep\")\n",
    "    sleep(randint(1,3))\n",
    "\n",
    "    if r.status_code==404:\n",
    "        break\n",
    "    elif r.status_code==200:\n",
    "        r_dict=r.json()\n",
    "\n",
    "        if len(r_dict[\"_embedded\"][\"estates\"]) == 0:\n",
    "            print(f\"Page {i+1} is blank.\")\n",
    "            break\n",
    "\n",
    "        collector[i]=r_dict\n",
    "        \n",
    "        print(f\"Page {i+1} was scraped.\")\n",
    "\n",
    "        i=i+1\n",
    "        j=0\n",
    "\n",
    "    else:\n",
    "        if  j==3:\n",
    "            print(f\"Code {r.status_code} was returned.\")\n",
    "            break\n",
    "        else:\n",
    "            j=j+1"
   ]
  },
  {
   "cell_type": "code",
   "execution_count": null,
   "metadata": {},
   "outputs": [],
   "source": [
    "def get_gps_lat_lon(estate_raw: Dict):\n",
    "    gps_ = estate_raw['gps']\n",
    "    return gps_['lat'], gps_['lon']\n",
    "\n",
    "# more robust implementation using regex - https://docs.python.org/3/library/re.html\n",
    "def get_area_from_name(name: str):\n",
    "    \"\"\"(\\d*) matches any decimal digits (repeated after each other\"\"\"\n",
    "    name_ = name.split()\n",
    "    return int(''.join(re.findall('(\\d*)', ''.join(name_))))"
   ]
  },
  {
   "cell_type": "code",
   "execution_count": null,
   "metadata": {},
   "outputs": [],
   "source": [
    "collector[0];"
   ]
  },
  {
   "cell_type": "code",
   "execution_count": null,
   "metadata": {},
   "outputs": [],
   "source": [
    "# slow helper functions (use itertools.chains for speedup)\n",
    "def flatten_list(l:List):\n",
    "    return [item for sublist in l for item in sublist]\n",
    "\n",
    "def get_distinct_nearby_objects(estates_individual_raw: Dict):\n",
    "    lists_of_nearby_objects = [e['labelsAll'][1] for e in estates_individual_raw.values()]\n",
    "    return list(set(flatten_list(lists_of_nearby_objects)))\n",
    "\n",
    "def get_distinct_estate_attributes(estates_individual_raw: Dict):\n",
    "    lists_of_estates_attributes = [e['labelsAll'][0] for e in estates_individual_raw.values()]\n",
    "    return list(set(flatten_list(lists_of_estates_attributes)))"
   ]
  },
  {
   "cell_type": "code",
   "execution_count": null,
   "metadata": {},
   "outputs": [],
   "source": [
    "def get_company_details(estate_raw: Dict):\n",
    "    try:\n",
    "            company_id = estate_raw[\"_embedded\"][\"company\"][\"id\"]\n",
    "            company_name = estate_raw[\"_embedded\"][\"company\"][\"name\"]\n",
    "    except (KeyError):\n",
    "            company_id = np.nan\n",
    "            company_name = np.nan\n",
    "\n",
    "    return company_id, company_name"
   ]
  },
  {
   "cell_type": "code",
   "execution_count": null,
   "metadata": {},
   "outputs": [],
   "source": [
    "raw_attributes_to_collect = ['locality', 'price', 'name', 'gps','hash_id','labelsAll','exclusively_at_rk']\n",
    "\n",
    "estates_individual_raw = {}\n",
    "estates_individual = {}\n",
    "\n",
    "for page, r in collector.items():\n",
    "    for estate in r['_embedded']['estates']: \n",
    "\n",
    "        estate_raw = {k:v for k,v in estate.items() if k in raw_attributes_to_collect}\n",
    "\n",
    "        estate_relevant = pd.Series(dtype=\"object\")\n",
    "\n",
    "        estate_relevant['price'] = int(estate['price'])\n",
    "        estate_relevant['price_czk'] = int(estate['price_czk'][\"value_raw\"])\n",
    "        estate_relevant['area'] = get_area_from_name(estate['name'])\n",
    "\n",
    "        lat, lon = get_gps_lat_lon(estate)\n",
    "        estate_relevant.loc['lat'] = lat\n",
    "        estate_relevant.loc['lon'] = lon\n",
    "        estate_relevant['locality'] = estate['locality']\n",
    "        estate_relevant['type'] = estate['type']\n",
    "        estate_relevant['category'] = estate['category']\n",
    "        estate_relevant['is_auction'] = estate['is_auction']\n",
    "        estate_relevant['exclusively_at_rk'] = estate['exclusively_at_rk']\n",
    "\n",
    "        estate_relevant['category_main_cb'] = estate[\"seo\"][\"category_main_cb\"]\n",
    "        estate_relevant['category_sub_cb'] = estate[\"seo\"][\"category_sub_cb\"]\n",
    "        estate_relevant['category_type_cb'] = estate[\"seo\"][\"category_type_cb\"]\n",
    "\n",
    "        company_id, company_name = get_company_details(estate)\n",
    "        estate_relevant['company_id'] = company_id\n",
    "        estate_relevant['company_name'] = company_name\n",
    "        \n",
    "        estates_individual_raw[estate['hash_id']] = estate_raw\n",
    "        estates_individual[estate['hash_id']] = estate_relevant"
   ]
  },
  {
   "cell_type": "code",
   "execution_count": null,
   "metadata": {},
   "outputs": [
    {
     "data": {
      "text/plain": [
       "{'labelsReleased': [[], []],\n",
       " 'has_panorama': 0,\n",
       " 'labels': [],\n",
       " 'is_auction': False,\n",
       " 'labelsAll': [[''],\n",
       "  ['playground',\n",
       "   'theater',\n",
       "   'vet',\n",
       "   'tavern',\n",
       "   'small_shop',\n",
       "   'candy_shop',\n",
       "   'movies',\n",
       "   'natural_attraction',\n",
       "   'medic',\n",
       "   'post_office',\n",
       "   'school',\n",
       "   'train',\n",
       "   'atm',\n",
       "   'sports',\n",
       "   'tram',\n",
       "   'bus_public_transport',\n",
       "   'kindergarten',\n",
       "   'shop',\n",
       "   'metro',\n",
       "   'restaurant',\n",
       "   'drugstore']],\n",
       " 'seo': {'category_main_cb': 5,\n",
       "  'category_sub_cb': 34,\n",
       "  'category_type_cb': 2,\n",
       "  'locality': 'praha-brevnov-belohorska'},\n",
       " 'exclusively_at_rk': 0,\n",
       " 'category': 5,\n",
       " 'has_floor_plan': 0,\n",
       " '_embedded': {'favourite': {'is_favourite': False,\n",
       "   '_links': {'self': {'profile': '/favourite/doc',\n",
       "     'href': '/cs/v2/favourite/619855452',\n",
       "     'title': 'Oblibene inzeraty'}}},\n",
       "  'note': {'note': '',\n",
       "   '_links': {'self': {'profile': '/note/doc',\n",
       "     'href': '/cs/v2/note/619855452',\n",
       "     'title': 'Poznamky inzeratu'}},\n",
       "   'has_note': False},\n",
       "  'company': {'url': 'Blue-House-Michal-s-Real-Estate-Praha-Smichov',\n",
       "   'id': 8047,\n",
       "   'name': 'Blue House Michal´s Real Estate',\n",
       "   'logo_small': 'https://d48-a.sdn.cz/d_48/c_img_H_D/pKLBmJi.png?fl=res,140,140,3,ffffff'}},\n",
       " 'paid_logo': 1,\n",
       " 'locality': 'Praha 6 - Břevnov',\n",
       " 'has_video': False,\n",
       " 'advert_images_count': 3,\n",
       " 'new': False,\n",
       " 'auctionPrice': 0.0,\n",
       " 'type': 2,\n",
       " 'hash_id': 619855452,\n",
       " 'attractive_offer': 0,\n",
       " 'price': 3000,\n",
       " 'price_czk': {'value_raw': 3000, 'unit': 'za měsíc', 'name': 'Celková cena'},\n",
       " '_links': {'dynamicDown': [{'href': 'https://d18-a.sdn.cz/d_18/c_img_gX_p/smeyWv.jpeg?fl=res,{width},{height},3|shr,,20|jpg,90'}],\n",
       "  'dynamicUp': [{'href': 'https://d18-a.sdn.cz/d_18/c_img_gX_p/smeyWv.jpeg?fl=res,{width},{height},3|wrm,/watermark/sreality.png,10|shr,,20|jpg,90'}],\n",
       "  'iterator': {'href': '/cs/v2/estate-iterator/518?category_main_cb=5&locality_region_id=10|11&suggested_regionId=-1&suggested_districtId=-1'},\n",
       "  'self': {'href': '/cs/v2/estates/619855452'},\n",
       "  'images': [{'href': 'https://d18-a.sdn.cz/d_18/c_img_gX_p/smeyWv.jpeg?fl=res,400,300,3|shr,,20|jpg,90'},\n",
       "   {'href': 'https://d18-a.sdn.cz/d_18/c_img_gZ_q/NzSyO2.jpeg?fl=res,400,300,3|shr,,20|jpg,90'},\n",
       "   {'href': 'https://d18-a.sdn.cz/d_18/c_img_QO_Kk/ddcNFB.jpeg?fl=res,400,300,3|shr,,20|jpg,90'}],\n",
       "  'image_middle2': [{'href': 'https://d18-a.sdn.cz/d_18/c_img_gX_p/smeyWv.jpeg?fl=res,400,300,3|shr,,20|jpg,90'}]},\n",
       " 'rus': False,\n",
       " 'name': 'Pronájem garáže 20\\xa0m²',\n",
       " 'region_tip': 0,\n",
       " 'gps': {'lat': 50.07017012020156, 'lon': 14.381330879798437},\n",
       " 'has_matterport_url': False}"
      ]
     },
     "execution_count": 106,
     "metadata": {},
     "output_type": "execute_result"
    }
   ],
   "source": [
    "estate"
   ]
  },
  {
   "cell_type": "code",
   "execution_count": null,
   "metadata": {},
   "outputs": [],
   "source": [
    "get_distinct_nearby_objects(estates_individual_raw);\n",
    "get_distinct_estate_attributes(estates_individual_raw);"
   ]
  },
  {
   "cell_type": "code",
   "execution_count": null,
   "metadata": {},
   "outputs": [],
   "source": [
    "estates_individual;"
   ]
  },
  {
   "cell_type": "code",
   "execution_count": null,
   "metadata": {},
   "outputs": [],
   "source": [
    "df = pd.concat(estates_individual).unstack()"
   ]
  },
  {
   "cell_type": "code",
   "execution_count": null,
   "metadata": {},
   "outputs": [
    {
     "data": {
      "text/html": [
       "<div>\n",
       "<style scoped>\n",
       "    .dataframe tbody tr th:only-of-type {\n",
       "        vertical-align: middle;\n",
       "    }\n",
       "\n",
       "    .dataframe tbody tr th {\n",
       "        vertical-align: top;\n",
       "    }\n",
       "\n",
       "    .dataframe thead th {\n",
       "        text-align: right;\n",
       "    }\n",
       "</style>\n",
       "<table border=\"1\" class=\"dataframe\">\n",
       "  <thead>\n",
       "    <tr style=\"text-align: right;\">\n",
       "      <th></th>\n",
       "      <th>hash_id</th>\n",
       "      <th>price</th>\n",
       "      <th>price_czk</th>\n",
       "      <th>area</th>\n",
       "      <th>lat</th>\n",
       "      <th>lon</th>\n",
       "      <th>locality</th>\n",
       "      <th>type</th>\n",
       "      <th>category</th>\n",
       "      <th>is_auction</th>\n",
       "      <th>exclusively_at_rk</th>\n",
       "      <th>category_main_cb</th>\n",
       "      <th>category_sub_cb</th>\n",
       "      <th>category_type_cb</th>\n",
       "      <th>company_id</th>\n",
       "      <th>company_name</th>\n",
       "    </tr>\n",
       "  </thead>\n",
       "  <tbody>\n",
       "    <tr>\n",
       "      <th>0</th>\n",
       "      <td>2670483276</td>\n",
       "      <td>1225000.0</td>\n",
       "      <td>1225000.0</td>\n",
       "      <td>21.0</td>\n",
       "      <td>50.035338</td>\n",
       "      <td>14.458362</td>\n",
       "      <td>Praha 4 - Michle</td>\n",
       "      <td>1</td>\n",
       "      <td>5</td>\n",
       "      <td>False</td>\n",
       "      <td>0</td>\n",
       "      <td>5</td>\n",
       "      <td>52</td>\n",
       "      <td>1</td>\n",
       "      <td>43314</td>\n",
       "      <td>Duna House</td>\n",
       "    </tr>\n",
       "    <tr>\n",
       "      <th>1</th>\n",
       "      <td>2495821644</td>\n",
       "      <td>1758000.0</td>\n",
       "      <td>1758000.0</td>\n",
       "      <td>21.0</td>\n",
       "      <td>50.057895</td>\n",
       "      <td>14.518219</td>\n",
       "      <td>Praha 10 - Strašnice</td>\n",
       "      <td>1</td>\n",
       "      <td>5</td>\n",
       "      <td>False</td>\n",
       "      <td>1</td>\n",
       "      <td>5</td>\n",
       "      <td>34</td>\n",
       "      <td>1</td>\n",
       "      <td>NaN</td>\n",
       "      <td>NaN</td>\n",
       "    </tr>\n",
       "    <tr>\n",
       "      <th>2</th>\n",
       "      <td>156955724</td>\n",
       "      <td>2000.0</td>\n",
       "      <td>2000.0</td>\n",
       "      <td>13.0</td>\n",
       "      <td>50.064158</td>\n",
       "      <td>14.500559</td>\n",
       "      <td>Praha 10 - Strašnice</td>\n",
       "      <td>2</td>\n",
       "      <td>5</td>\n",
       "      <td>False</td>\n",
       "      <td>1</td>\n",
       "      <td>5</td>\n",
       "      <td>34</td>\n",
       "      <td>2</td>\n",
       "      <td>NaN</td>\n",
       "      <td>NaN</td>\n",
       "    </tr>\n",
       "    <tr>\n",
       "      <th>3</th>\n",
       "      <td>2362082380</td>\n",
       "      <td>558000.0</td>\n",
       "      <td>558000.0</td>\n",
       "      <td>17.0</td>\n",
       "      <td>49.997397</td>\n",
       "      <td>14.413837</td>\n",
       "      <td>Praha 4 - Modřany</td>\n",
       "      <td>1</td>\n",
       "      <td>5</td>\n",
       "      <td>False</td>\n",
       "      <td>0</td>\n",
       "      <td>5</td>\n",
       "      <td>34</td>\n",
       "      <td>1</td>\n",
       "      <td>NaN</td>\n",
       "      <td>NaN</td>\n",
       "    </tr>\n",
       "    <tr>\n",
       "      <th>4</th>\n",
       "      <td>377640780</td>\n",
       "      <td>395000.0</td>\n",
       "      <td>395000.0</td>\n",
       "      <td>16.0</td>\n",
       "      <td>50.100554</td>\n",
       "      <td>14.498755</td>\n",
       "      <td>Praha 9 - Prosek</td>\n",
       "      <td>1</td>\n",
       "      <td>5</td>\n",
       "      <td>False</td>\n",
       "      <td>1</td>\n",
       "      <td>5</td>\n",
       "      <td>52</td>\n",
       "      <td>1</td>\n",
       "      <td>14367</td>\n",
       "      <td>Home Real Estate</td>\n",
       "    </tr>\n",
       "  </tbody>\n",
       "</table>\n",
       "</div>"
      ],
      "text/plain": [
       "      hash_id      price  price_czk  area        lat        lon  \\\n",
       "0  2670483276  1225000.0  1225000.0  21.0  50.035338  14.458362   \n",
       "1  2495821644  1758000.0  1758000.0  21.0  50.057895  14.518219   \n",
       "2   156955724     2000.0     2000.0  13.0  50.064158  14.500559   \n",
       "3  2362082380   558000.0   558000.0  17.0  49.997397  14.413837   \n",
       "4   377640780   395000.0   395000.0  16.0  50.100554  14.498755   \n",
       "\n",
       "               locality type category is_auction exclusively_at_rk  \\\n",
       "0      Praha 4 - Michle    1        5      False                 0   \n",
       "1  Praha 10 - Strašnice    1        5      False                 1   \n",
       "2  Praha 10 - Strašnice    2        5      False                 1   \n",
       "3     Praha 4 - Modřany    1        5      False                 0   \n",
       "4      Praha 9 - Prosek    1        5      False                 1   \n",
       "\n",
       "  category_main_cb category_sub_cb category_type_cb company_id  \\\n",
       "0                5              52                1      43314   \n",
       "1                5              34                1        NaN   \n",
       "2                5              34                2        NaN   \n",
       "3                5              34                1        NaN   \n",
       "4                5              52                1      14367   \n",
       "\n",
       "       company_name  \n",
       "0        Duna House  \n",
       "1               NaN  \n",
       "2               NaN  \n",
       "3               NaN  \n",
       "4  Home Real Estate  "
      ]
     },
     "execution_count": 115,
     "metadata": {},
     "output_type": "execute_result"
    }
   ],
   "source": [
    "df.reset_index(inplace=True)\n",
    "df = df.rename(columns = {'index':'hash_id'})\n",
    "df.head()"
   ]
  },
  {
   "cell_type": "code",
   "execution_count": null,
   "metadata": {},
   "outputs": [
    {
     "data": {
      "text/plain": [
       "(519, 15)"
      ]
     },
     "execution_count": 111,
     "metadata": {},
     "output_type": "execute_result"
    }
   ],
   "source": [
    "df.shape"
   ]
  },
  {
   "cell_type": "markdown",
   "metadata": {},
   "source": [
    "### Saving data"
   ]
  },
  {
   "cell_type": "code",
   "execution_count": null,
   "metadata": {},
   "outputs": [],
   "source": [
    "import os"
   ]
  },
  {
   "cell_type": "code",
   "execution_count": null,
   "metadata": {},
   "outputs": [],
   "source": [
    "df.to_parquet(exp_file_path+\"/\"+exp_file_name) "
   ]
  },
  {
   "cell_type": "markdown",
   "metadata": {},
   "source": [
    "### Visualisation"
   ]
  },
  {
   "cell_type": "code",
   "execution_count": null,
   "metadata": {},
   "outputs": [
    {
     "data": {
      "text/plain": [
       "<matplotlib.collections.PathCollection at 0x7fe4a8653970>"
      ]
     },
     "execution_count": 117,
     "metadata": {},
     "output_type": "execute_result"
    },
    {
     "data": {
      "image/png": "[encoded data removed]",
      "text/plain": [
       "<Figure size 640x480 with 1 Axes>"
      ]
     },
     "metadata": {},
     "output_type": "display_data"
    }
   ],
   "source": [
    "import matplotlib.pyplot as plt \n",
    "df_filtered=df.loc[df['area'] < 100000] \n",
    "plt.scatter(df_filtered['price'],df_filtered['area'])"
   ]
  },
  {
   "cell_type": "markdown",
   "metadata": {},
   "source": []
  }
 ],
 "metadata": {
  "kernelspec": {
   "display_name": "Python 3.9.13 ('base')",
   "language": "python",
   "name": "python3"
  },
  "language_info": {
   "codemirror_mode": {
    "name": "ipython",
    "version": 3
   },
   "file_extension": ".py",
   "mimetype": "text/x-python",
   "name": "python",
   "nbconvert_exporter": "python",
   "pygments_lexer": "ipython3",
   "version": "3.9.13"
  },
  "orig_nbformat": 4,
  "vscode": {
   "interpreter": {
    "hash": "a02a01f4637964553a3d9a76be7cbdd74d3a9321504b5f055e54f87e7bbe80de"
   }
  }
 },
 "nbformat": 4,
 "nbformat_minor": 2
}
